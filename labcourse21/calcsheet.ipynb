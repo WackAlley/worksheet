{
 "cells": [
  {
   "cell_type": "code",
   "execution_count": 31,
   "id": "c8c3d960-6db5-432d-861f-c8f4c7741f49",
   "metadata": {},
   "outputs": [],
   "source": [
    "import numpy as np\n",
    "from icecream import ic"
   ]
  },
  {
   "cell_type": "markdown",
   "id": "f3d989a5-a3c8-4104-b256-d5c8e7734c5d",
   "metadata": {},
   "source": [
    "Skalierungsfaktor $s_P$\n",
    "\\begin{align}\n",
    "    s_P &= \\frac{L_{1}}{30.01cm} - \\frac{1}{30.01cm}\\frac{L_{1} - L_{2}}{2}\n",
    "\\end{align}\n",
    "\n",
    "Fehler $\\Delta s_P$\n",
    "\\begin{align}\n",
    "    \\Delta s_{P} &= \\sqrt{ \\left(\\frac{\\partial s_{P}}{\\partial L_{1}} \\Delta L_{1}\\right)^{2} + \n",
    "                           \\left(\\frac{\\partial s_{P}}{\\partial L_{2}} \\Delta L_{2}\\right)^{2}}\n",
    "\\end{align}"
   ]
  },
  {
   "cell_type": "code",
   "execution_count": 37,
   "id": "fb6a78e2-69cd-4b64-b782-338c282b1d9c",
   "metadata": {},
   "outputs": [
    {
     "name": "stderr",
     "output_type": "stream",
     "text": [
      "ic| s_p: 1.7410863045651448\n",
      "ic| delta_s_p: 0.0023562371915579724\n",
      "ic| momentum(r_real(r_gem1)): 811.8822118660288\n"
     ]
    }
   ],
   "source": [
    "# Positionen, Einheit in cm\n",
    "l1 = 45.5 \n",
    "delta_l1 = 0.1\n",
    "l2 = 59\n",
    "delta_l2 = 0.1\n",
    "\n",
    "# Skalierungsfaktor s_p\n",
    "s_p = l1 - (l1 - l2)/2\n",
    "s_p = s_p/30.01\n",
    "\n",
    "ic(s_p)\n",
    "\n",
    "# Fehler Skalierungsfaktor\n",
    "delta_s_p_inner_term = (delta_l1 / (2*30.01))**2 + (delta_l2 / (2*30.01))**2\n",
    "delta_s_p = np.sqrt(delta_s_p_inner_term)\n",
    "ic(delta_s_p)\n",
    "\n",
    "# Krümmungsradius\n",
    "def r_real(r_gem): \n",
    "    return r_gem / s_p # Krümmungsradius r_real in cm\n",
    "\n",
    "# Fehler Krümmungsradius\n",
    "def delta_r_real(r_gem, delta_r_gem):\n",
    "    delta_r_real_inner_term = (delta_r_gem / s_p)**2 + ( (r_gem / s_p**2) * delta_s_p)**2\n",
    "    delta_r_real_complete_term = np.sqrt(delta_r_real_inner_term)\n",
    "    return delta_r_real_complete_term\n",
    "\n",
    "# Impuls, kinetischer Ausdruck in MeV/c\n",
    "B = 2.05 # Magnetische Flussstärke in T\n",
    "def momentum(r_real):\n",
    "    return 2.998 * B * r_real\n",
    "ic(momentum(r_real(r_gem1)))\n",
    "\n",
    "# Fehler Impuls, kinetischer Ausdruck\n",
    "def delta_momentum(delta_r_real):\n",
    "    return 2.998 * B * delta_r_real"
   ]
  },
  {
   "cell_type": "code",
   "execution_count": 38,
   "id": "f33f2689-f90c-4330-9914-46b47dc46506",
   "metadata": {},
   "outputs": [
    {
     "name": "stderr",
     "output_type": "stream",
     "text": [
      "ic| r_real(r_gem1): 132.10143540669858\n",
      "ic| delta_r_real(r_gem1, delta_r_gem1): 4.3113636297631235\n",
      "ic| delta_momentum(delta_r_real(r_gem1, delta_r_gem1)): 26.49720973216118\n"
     ]
    },
    {
     "data": {
      "text/plain": [
       "26.49720973216118"
      ]
     },
     "execution_count": 38,
     "metadata": {},
     "output_type": "execute_result"
    }
   ],
   "source": [
    "# Werte 1: Maßstabsetzung, Impuls = 810MeV/c\n",
    "r_gem1 = 230 # gemessener Krümmungsradius in cm\n",
    "delta_r_gem1 = 7.5\n",
    "\n",
    "ic(r_real(r_gem1))\n",
    "ic(delta_r_real(r_gem1, delta_r_gem1))\n",
    "ic(delta_momentum(delta_r_real(r_gem1, delta_r_gem1)))"
   ]
  }
 ],
 "metadata": {
  "kernelspec": {
   "display_name": "Python 3 (ipykernel)",
   "language": "python",
   "name": "python3"
  },
  "language_info": {
   "codemirror_mode": {
    "name": "ipython",
    "version": 3
   },
   "file_extension": ".py",
   "mimetype": "text/x-python",
   "name": "python",
   "nbconvert_exporter": "python",
   "pygments_lexer": "ipython3",
   "version": "3.13.1"
  }
 },
 "nbformat": 4,
 "nbformat_minor": 5
}
