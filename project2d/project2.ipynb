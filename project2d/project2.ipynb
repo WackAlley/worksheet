{
 "cells": [
  {
   "cell_type": "code",
   "execution_count": 9,
   "id": "07d7a675-fc31-4a1a-a56f-f7128802c919",
   "metadata": {},
   "outputs": [],
   "source": [
    "from icecream import ic\n",
    "from abc import ABC, abstractmethod\n",
    "import numpy as np\n",
    "from numpy import linalg as LA\n",
    "import graphviz"
   ]
  },
  {
   "cell_type": "markdown",
   "id": "4d0f6ed9-4711-4b53-8ec4-b5b6bf682edd",
   "metadata": {},
   "source": [
    "## Libraries\n",
    "- $\\texttt{forward\\_backward\\_functions\\_and\\_nodes}$: this library contains three things: \n",
    "    - The mathematical operators are defined as classes\n",
    "    - The nodes of a node tree are defined by their behavior: variables/endnodes are defined as instances of $\\texttt{Expr\\_end\\_node()}$, while functions are defined as instances of $\\texttt{Expr\\_node()}$. \n",
    "    - ABC-Function: Each time a class is called, it is defined as an instance of $\\texttt{Expr\\_node()}$. This means that calling an operator class is enough for the propagation algorithm to understand what and where the nodes are. \n",
    "- $\\texttt{print\\_graph}$"
   ]
  },
  {
   "cell_type": "code",
   "execution_count": 10,
   "id": "e0e12b73-3264-48c8-abe4-a9d3dab1702c",
   "metadata": {},
   "outputs": [],
   "source": [
    "from forward_backward_functions_and_nodes import * \n",
    "from print_graph import print_graph"
   ]
  },
  {
   "cell_type": "markdown",
   "id": "01af883d-fb84-4c7d-9503-d86bfd890234",
   "metadata": {},
   "source": [
    "## Propagation algorithms\n",
    "The forward pass gives the computated value of the specified node. If the node is not an endnode, it will keep recurring itself until it reaches one. \\\n",
    "The backward propagation is a recursive function that will record the argument of the outer derivative, compute the outer derivative, and mulitplty it with the derivative of the argument. The derivative of the argument is done the same way. The algorithm will keep doing this unit it reaches an endnode, where it will assign the value of the endnode with the total accumulated product. \\\n",
    "The possibility of multiple arguments is considered with the $\\texttt{if len(node.childs) == 1}$ - clause."
   ]
  },
  {
   "cell_type": "code",
   "execution_count": 11,
   "id": "054932a3-ff42-4ef3-bad1-7591b1f0e6f7",
   "metadata": {},
   "outputs": [],
   "source": [
    "def forward(node):\n",
    "    return node.forward_func(*(forward(child) for child in node.childs)) if type(node) is not Expr_end_node else node.value \n",
    "    \n",
    "def backward(node, value = np.float64(1)):\n",
    "    if type(node) is not Expr_end_node:\n",
    "        child_values = [forward(child) for child in node.childs] # computes the argument of the outer derivative. In other words: it computes g of f'(g)\n",
    "        if len(node.childs) == 1:\n",
    "            new_value = node.backward_func(*child_values) # computes the outer derivative f'(g)\n",
    "            if value.ndim == 0 or new_value.ndim == 0:\n",
    "                backward(node.childs[0], value * new_value)\n",
    "            else: \n",
    "                backward(node.childs[0], new_value.T @ value) # @ is matrix product\n",
    "        else:\n",
    "            for child, new_value in zip(node.childs, node.backward_func(*child_values), strict=True):\n",
    "                if value.ndim == 0 or new_value.ndim == 0:\n",
    "                    backward(child, value * new_value)\n",
    "                else: \n",
    "                    backward(child, new_value.T @ value)                 \n",
    "    else:\n",
    "        node.grad_value += value\n"
   ]
  },
  {
   "cell_type": "markdown",
   "id": "a2441ffd-91ff-4641-af26-1dff80fb85b6",
   "metadata": {},
   "source": [
    "## Example functions\n",
    "\n",
    "The following cells are structured as follows: \n",
    "- Each cell contains one example function. \\\n",
    "For each function, we define the operators, parameters, and the function itself. The operators are defined as their respective operator classes. \\\n",
    "Example: \n",
    "| mathematical operator | operator class  |\n",
    "| --- | --- |\n",
    "| + | Add() |\n",
    "| $\\cdot$ | Multiply()|\n",
    "| sin() | Sin() | \n",
    "\n",
    "- This function will then be depicted as a node tree via the $\\texttt{print\\_graph}$ function.\n",
    "- Finally, we perform the forward and backward propagation. The values of the propagations will be compared with values of the analytically solven function and derivative(s)."
   ]
  },
  {
   "cell_type": "markdown",
   "id": "edc2b3b6-96d4-4bf5-a765-fe76cfe7a219",
   "metadata": {},
   "source": [
    "### Function 1: $f(x_1,x_2) = \\log(x_1 \\cdot x_2) \\cdot \\sin(x_2) $"
   ]
  },
  {
   "cell_type": "code",
   "execution_count": 12,
   "id": "99f579f8-ac29-4da5-9fe7-e63634a8244f",
   "metadata": {},
   "outputs": [
    {
     "name": "stderr",
     "output_type": "stream",
     "text": [
      "ic| forward(func1): -0.07899514540154058\n",
      "ic| np.log(x1.value * x2.value) * np.sin(x2.value): -0.07899514540154058\n",
      "ic| x1.grad_value: -0.3154913882864964\n",
      "ic| np.sin(x2.value) / x1.value: -0.3154913882864964\n",
      "ic| x2.grad_value: -0.5423071915818244\n",
      "ic| np.sin(x2.value) / x2.value + np.log(x1.value * x2.value) * np.cos(x2.value): -0.5423071915818244\n"
     ]
    },
    {
     "name": "stdout",
     "output_type": "stream",
     "text": [
      "function 1\n",
      "Calculus values of x1 derivative and x2 derivative: -0.3154913882864964 -0.5423071915818244\n",
      "Compared to derivatives through chain rule:         -0.3154913882864964 -0.5423071915818244\n"
     ]
    }
   ],
   "source": [
    "# defining the function\n",
    "log = Log()\n",
    "multiply = Multiply()\n",
    "sin = Sin()\n",
    "x1 = Expr_end_node(np.float64(.5))\n",
    "x2 = Expr_end_node(np.float64(3.3))\n",
    "func1 = multiply(log(multiply(x1, x2)), sin(x2))\n",
    "\n",
    "# graphical depiction\n",
    "graph1 = graphviz.Digraph('graph1', comment='test') \n",
    "graph1.attr(rankdir=\"LR\")\n",
    "print_graph(func1, graph1)\n",
    "graph1.render(directory='graph_out/tt', view=True)\n",
    "\n",
    "\n",
    "# analytical function and its derivative(s)\n",
    "mfunc1 = np.log(x1.value * x2.value) * np.sin(x2.value) # analytical function\n",
    "mdfunc1dx1 = np.sin(x2.value) / x1.value # analytical derivative w.r.t. x1 \n",
    "mdfunc1dx2 = np.sin(x2.value) / x2.value + np.log(x1.value * x2.value) * np.cos(x2.value) # analytical derivative w.r.t. x2\n",
    "\n",
    "# comparison to analytical value\n",
    "# comparison 1: forward propagation\n",
    "ic(forward(func1)) # value of the function via forward propagation\n",
    "ic(np.log(x1.value * x2.value) * np.sin(x2.value)) # value of the analytical function\n",
    "\n",
    "# comparison 2: backward propagation\n",
    "# as we reuse the same parameter names for multiple functions, we set the derivatives w.r.t. the parameters to zero, before performing the derivatives.\n",
    "x1.grad_value=0\n",
    "x2.grad_value=0\n",
    "backward(func1) # performing the derivative via backward propagation\n",
    "ic(x1.grad_value) # value of the derivative w.r.t. x1 via backward propagation\n",
    "ic(np.sin(x2.value) / x1.value) # value of the analytical derivative w.r.t. x1 \n",
    "ic(x2.grad_value) # value of the derivative w.r.t. x2 via backward propagation\n",
    "ic(np.sin(x2.value) / x2.value + np.log(x1.value * x2.value) * np.cos(x2.value)) # value of the analytical derivative w.r.t. x2\n",
    "\n",
    "\n",
    "# Result\n",
    "print(\"function 1\")\n",
    "print(\"Calculus values of x1 derivative and x2 derivative:\", mdfunc1dx1, mdfunc1dx2 )\n",
    "print(\"Compared to derivatives through chain rule:        \", x1.grad_value, x2.grad_value)"
   ]
  },
  {
   "cell_type": "markdown",
   "id": "cc5f7dd8-e86c-49d9-b29f-1c4f34845236",
   "metadata": {},
   "source": [
    "### Function 2: $g(x_1, x_2) = x_1 \\cdot x_2 (x_1 + x_2) $ "
   ]
  },
  {
   "cell_type": "code",
   "execution_count": 13,
   "id": "dbe59784-a76f-4e17-a37a-76d8ae6655a7",
   "metadata": {},
   "outputs": [
    {
     "name": "stderr",
     "output_type": "stream",
     "text": [
      "ic| forward(func2): 6.27\n",
      "ic| x1.value * x2.value * (x1.value + x2.value): 6.27\n",
      "ic| x1.grad_value: 14.19\n",
      "ic| mdfunc2dx1: 14.19\n",
      "ic| x2.grad_value: 3.55\n",
      "ic| mdfunc2dx2: 3.55\n"
     ]
    },
    {
     "name": "stdout",
     "output_type": "stream",
     "text": [
      "Function 2\n",
      "Calculus values of x1 derivative and x2 derivative: 14.19 3.55\n",
      "Compared to derivatives through chain rule:         14.19 3.55\n"
     ]
    }
   ],
   "source": [
    "# defining the function\n",
    "multiply = Multiply()\n",
    "add = Add()\n",
    "x1 = Expr_end_node(np.float64(.5))\n",
    "x2 = Expr_end_node(np.float64(3.3))\n",
    "func2 = multiply(x1, multiply(x2, add(x1, x2)))\n",
    "\n",
    "# graphical depiction\n",
    "graph2 = graphviz.Digraph('graph2', comment='test') \n",
    "graph2.attr(rankdir=\"LR\")\n",
    "print_graph(func2, graph2)\n",
    "graph2.render(directory='graph_out/tt', view=True)\n",
    "\n",
    "# analytical function and its derivative(s)\n",
    "mfunc2 = x1.value * x2.value * (x1.value + x2.value)\n",
    "mdfunc2dx1 = x2.value * (x1.value + x2.value) + x1.value * x2.value\n",
    "mdfunc2dx2 = x1.value * (x1.value + x2.value) + x1.value * x2.value\n",
    "\n",
    "# comparison\n",
    "ic(forward(func2))\n",
    "ic(x1.value * x2.value * (x1.value + x2.value))\n",
    "\n",
    "x1.grad_value=0\n",
    "x2.grad_value=0\n",
    "backward(func2)\n",
    "ic(x1.grad_value)\n",
    "ic(mdfunc2dx1)\n",
    "ic(x2.grad_value)\n",
    "ic(mdfunc2dx2)\n",
    "\n",
    "# result\n",
    "print(\"Function 2\")\n",
    "print(\"Calculus values of x1 derivative and x2 derivative:\", mdfunc2dx1, mdfunc2dx2 )\n",
    "print(\"Compared to derivatives through chain rule:        \", x1.grad_value, x2.grad_value)"
   ]
  },
  {
   "cell_type": "markdown",
   "id": "4de858bf-d98b-4bd3-ad5d-1e63e2afc067",
   "metadata": {},
   "source": [
    "### Function 3: $h(x) = 3x^2 + 4x + 2$"
   ]
  },
  {
   "cell_type": "code",
   "execution_count": 14,
   "id": "ccb60fa2-89da-453d-9d58-65b3371e3041",
   "metadata": {},
   "outputs": [
    {
     "name": "stderr",
     "output_type": "stream",
     "text": [
      "ic| forward(func3): 4.75\n",
      "ic| 3*x.value**2 + 4 * x.value + 2: 4.75\n",
      "ic| mdfunc3dx: 7.0\n",
      "ic| x.grad_value: 7.0\n"
     ]
    },
    {
     "name": "stdout",
     "output_type": "stream",
     "text": [
      "Function 3\n",
      "Calculus values of x derivative:                    7.0\n",
      "Compared to derivatives through chain rule:         7.0\n"
     ]
    }
   ],
   "source": [
    "# defining the function\n",
    "add = Add()\n",
    "add_2 = Add_scalar(2)\n",
    "x = Expr_end_node(np.float64(.5))\n",
    "multiply_3 = Multiply_scalar(3)\n",
    "multiply_4 = Multiply_scalar(4)\n",
    "func3 = add_2( add( multiply_3(multiply(x,x)) , multiply_4(x) ))\n",
    "\n",
    "# graphical depiction\n",
    "graph3 = graphviz.Digraph('graph3', comment='test') \n",
    "graph3.attr(rankdir=\"LR\")\n",
    "print_graph(func3, graph3)\n",
    "graph3.render(directory='graph_out/tt', view=True)\n",
    "\n",
    "# comparison\n",
    "mfunc3 = 3*x.value**2 + 4 * x.value + 2\n",
    "mdfunc3dx = 6 * x.value + 4\n",
    "\n",
    "ic(forward(func3))\n",
    "ic(3*x.value**2 + 4 * x.value + 2)\n",
    "\n",
    "x.grad_value = 0\n",
    "backward(func3)\n",
    "ic(mdfunc3dx)\n",
    "ic(x.grad_value)\n",
    "\n",
    "\n",
    "# Result\n",
    "print(\"Function 3\")\n",
    "print(\"Calculus values of x derivative:                   \", mdfunc3dx)\n",
    "print(\"Compared to derivatives through chain rule:        \", x.grad_value)"
   ]
  },
  {
   "cell_type": "markdown",
   "id": "70448188-cd85-4e37-8388-c663505fd4ff",
   "metadata": {},
   "source": [
    "## Function 4: Neuron$(\\vec x, w, \\vec b) = \\tanh(w\\cdot \\vec x + \\vec b)$"
   ]
  },
  {
   "cell_type": "code",
   "execution_count": 15,
   "id": "b3d47224-5f39-4954-9200-2c5aaa427f97",
   "metadata": {},
   "outputs": [
    {
     "name": "stderr",
     "output_type": "stream",
     "text": [
      "ic| forward(func4): 0.9994508436877974\n",
      "ic| np.tanh(w.value*x.value + b.value): 0.9994508436877974\n",
      "ic| w.grad_value: 0.000549005525875057\n",
      "ic| mdfunc4dw: 0.0005490055258750498\n",
      "ic| x.grad_value: 0.002196022103500228\n",
      "ic| mdfunc4dx: 0.002196022103500199\n",
      "ic| b.grad_value: 0.001098011051750114\n",
      "ic| mdfunc4db: 0.0010980110517500995\n"
     ]
    },
    {
     "name": "stdout",
     "output_type": "stream",
     "text": [
      "Function 4\n",
      "Calculus values of w,x and b derivative:            0.0005490055258750498 0.002196022103500199 0.0010980110517500995\n",
      "Compared to derivatives through chain rule:         0.000549005525875057 0.002196022103500228 0.001098011051750114\n"
     ]
    }
   ],
   "source": [
    "# defining the function\n",
    "w = Expr_end_node(np.float64(2))\n",
    "x = Expr_end_node(np.float64(.5))\n",
    "b = Expr_end_node(np.float64(3.1))\n",
    "tanh = Tanh()\n",
    "add = Add()\n",
    "multiply = Multiply()\n",
    "func4 = tanh(add( multiply(w,x) , b))\n",
    "\n",
    "# graphical depiction\n",
    "graph4 = graphviz.Digraph('graph4', comment='test') \n",
    "graph4.attr(rankdir=\"LR\")\n",
    "print_graph(func4, graph4)\n",
    "graph4.render(directory='graph_out/tt', view=True)\n",
    "\n",
    "# comparison\n",
    "mfunc4 = np.tanh(w.value*x.value + b.value)\n",
    "mdfunc4dw = 1 / np.cosh(w.value * x.value + b.value)**2 * x.value\n",
    "mdfunc4dx = 1 / np.cosh(w.value * x.value + b.value)**2 * w.value\n",
    "mdfunc4db = 1 / np.cosh(w.value * x.value + b.value)**2\n",
    "\n",
    "ic(forward(func4))\n",
    "ic(np.tanh(w.value*x.value + b.value))\n",
    "\n",
    "w.grad_value = 0\n",
    "x.grad_value = 0\n",
    "b.grad_value = 0\n",
    "backward(func4)\n",
    "ic(w.grad_value)\n",
    "ic(mdfunc4dw)\n",
    "ic(x.grad_value)\n",
    "ic(mdfunc4dx)\n",
    "ic(b.grad_value)\n",
    "ic(mdfunc4db)\n",
    "\n",
    "\n",
    "# Result\n",
    "print(\"Function 4\")\n",
    "print(\"Calculus values of w,x and b derivative:           \", mdfunc4dw, mdfunc4dx, mdfunc4db)\n",
    "print(\"Compared to derivatives through chain rule:        \", w.grad_value, x.grad_value, b.grad_value)"
   ]
  }
 ],
 "metadata": {
  "kernelspec": {
   "display_name": "Python 3 (ipykernel)",
   "language": "python",
   "name": "python3"
  },
  "language_info": {
   "codemirror_mode": {
    "name": "ipython",
    "version": 3
   },
   "file_extension": ".py",
   "mimetype": "text/x-python",
   "name": "python",
   "nbconvert_exporter": "python",
   "pygments_lexer": "ipython3",
   "version": "3.13.0"
  }
 },
 "nbformat": 4,
 "nbformat_minor": 5
}
