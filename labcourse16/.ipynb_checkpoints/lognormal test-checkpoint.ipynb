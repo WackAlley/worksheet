{
 "cells": [
  {
   "cell_type": "code",
   "execution_count": 2,
   "id": "bf18e986-e6ae-4028-922f-f6c7099c28ed",
   "metadata": {},
   "outputs": [],
   "source": [
    "import numpy as np\n",
    "import matplotlib\n",
    "import matplotlib.pyplot as plt\n",
    "import seaborn as sns\n",
    "import pandas as pd\n",
    "from icecream import ic\n",
    "plt.rc('text', usetex=True)\n",
    "plt.rc('font', family='STIXGeneral')"
   ]
  },
  {
   "cell_type": "code",
   "execution_count": 1,
   "id": "174d5e34-a93a-4bea-b772-87b4dcd4bd87",
   "metadata": {},
   "outputs": [],
   "source": [
    "# testing some values to make a good estimation for the initial mcmc prior\n",
    "mu = 8\n",
    "mu2 = 7\n",
    "sig = 2.88\n",
    "sig2= 2.3\n",
    "amp = 5.54e4\n",
    "amp2 = 5e4\n",
    "\n",
    "def lognormal(ch,mu1,sig1): \n",
    "    return np.divide(1,ch*sig1*np.sqrt(2*np.pi)) * np.exp(-np.divide(np.power(np.log(ch)-mu1,2),2*sig1**2))\n",
    "\n",
    "def gaussian(ch,mu2,sig2):\n",
    "    return np.divide(1,sig2*np.sqrt(2*np.pi)) * np.exp(- ( (ch-mu2) /sig2 )**2 / 2)"
   ]
  },
  {
   "cell_type": "code",
   "execution_count": null,
   "id": "d28665b1-ebcc-4412-a031-92861c1c3118",
   "metadata": {},
   "outputs": [],
   "source": []
  },
  {
   "cell_type": "code",
   "execution_count": null,
   "id": "293a9159-0de3-47f5-9d40-c470caa42eb4",
   "metadata": {},
   "outputs": [],
   "source": [
    "# Cobalt detector 1\n",
    "df = pd.read_csv('Results/energiespektrum_cobalt_detektor1.asc')\n",
    "df.columns = ['counts']\n",
    "df.index.name = 'channel'\n",
    "df['counts'] = df.loc[df['counts'] > 0]\n",
    "\n"
   ]
  }
 ],
 "metadata": {
  "kernelspec": {
   "display_name": "Python 3 (ipykernel)",
   "language": "python",
   "name": "python3"
  },
  "language_info": {
   "codemirror_mode": {
    "name": "ipython",
    "version": 3
   },
   "file_extension": ".py",
   "mimetype": "text/x-python",
   "name": "python",
   "nbconvert_exporter": "python",
   "pygments_lexer": "ipython3",
   "version": "3.13.1"
  }
 },
 "nbformat": 4,
 "nbformat_minor": 5
}
