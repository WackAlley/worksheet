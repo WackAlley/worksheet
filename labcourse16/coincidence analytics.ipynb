{
 "cells": [
  {
   "cell_type": "code",
   "execution_count": 1,
   "id": "15c94a60-3350-4e16-ad64-30b2bdf45208",
   "metadata": {},
   "outputs": [],
   "source": [
    "import numpy as np\n",
    "import matplotlib\n",
    "import matplotlib.pyplot as plt\n",
    "import seaborn as sns\n",
    "import pandas as pd\n",
    "from icecream import ic\n",
    "\n",
    "plt.rc('text', usetex=True)\n",
    "plt.rc('font', family='STIXGeneral')"
   ]
  },
  {
   "cell_type": "markdown",
   "id": "9f3f8be4-acf8-44a6-a9e5-d0745cca98b3",
   "metadata": {},
   "source": [
    "# Coincidence gamma spectroscopy\n",
    "## Sodium annihilation radiation, angle at maximum signal strength\n",
    "\n",
    "Values TOTALSUM and REALTIME taken from 'Results/4.1.4/*.mcd' files"
   ]
  },
  {
   "cell_type": "code",
   "execution_count": 2,
   "id": "4e173fa8-ad10-4f9b-b3a4-b8bf7f470a97",
   "metadata": {},
   "outputs": [
    {
     "name": "stderr",
     "output_type": "stream",
     "text": [
      "ic| 24/123.136: 0.1949064449064449\n",
      "ic| 59/123.155: 0.47907108927773945\n",
      "ic| 84/129.882: 0.6467408878828474\n",
      "ic| 48/122.609: 0.3914883899224364\n"
     ]
    },
    {
     "data": {
      "text/plain": [
       "0.3914883899224364"
      ]
     },
     "execution_count": 2,
     "metadata": {},
     "output_type": "execute_result"
    }
   ],
   "source": [
    "ic(24/123.136)\n",
    "ic(59/123.155)\n",
    "ic(84/129.882)\n",
    "ic(48/122.609)"
   ]
  },
  {
   "cell_type": "markdown",
   "id": "f1552a06-a4b6-4789-980f-0c5ae7b6b654",
   "metadata": {},
   "source": [
    "deflection| sum | time | count rate\n",
    ":-   |-|-|:-\n",
    "0cm  | 24 | 123.136s | 0.1949064449064449 $s^{-1}$\n",
    "-1cm | 59 | 123.155s | 0.47907108927773945 $s^{-1}$\n",
    "-2cm | 84 | 129.882s | 0.6467408878828474 $s^{-1}$\n",
    "-3cm | 48 | 122.609s | 0.3914883899224364 $s^{-1}$\n",
    "\n",
    "Maximal count rate at a deflection of -2cm."
   ]
  },
  {
   "cell_type": "markdown",
   "id": "a264810c-6658-4021-abe4-257a7eaa7a5c",
   "metadata": {},
   "source": [
    "## Sodium angular correlation between \n",
    "## $e^+e^- $ annihilation and $\\gamma$-decay"
   ]
  },
  {
   "cell_type": "code",
   "execution_count": null,
   "id": "3df9813b-a088-4c14-a792-3a996cdc03c7",
   "metadata": {},
   "outputs": [],
   "source": []
  },
  {
   "cell_type": "markdown",
   "id": "94ac6909-6025-40cf-aaae-4c1d8f99f1c7",
   "metadata": {},
   "source": [
    "## Cobalt decay cascade"
   ]
  }
 ],
 "metadata": {
  "kernelspec": {
   "display_name": "Python 3 (ipykernel)",
   "language": "python",
   "name": "python3"
  },
  "language_info": {
   "codemirror_mode": {
    "name": "ipython",
    "version": 3
   },
   "file_extension": ".py",
   "mimetype": "text/x-python",
   "name": "python",
   "nbconvert_exporter": "python",
   "pygments_lexer": "ipython3",
   "version": "3.13.1"
  }
 },
 "nbformat": 4,
 "nbformat_minor": 5
}
