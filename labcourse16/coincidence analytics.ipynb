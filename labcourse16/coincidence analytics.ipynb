{
 "cells": [
  {
   "cell_type": "code",
   "execution_count": 2,
   "id": "15c94a60-3350-4e16-ad64-30b2bdf45208",
   "metadata": {},
   "outputs": [],
   "source": [
    "import numpy as np\n",
    "import matplotlib\n",
    "import matplotlib.pyplot as plt\n",
    "import seaborn as sns\n",
    "import pandas as pd\n",
    "from icecream import ic\n",
    "\n",
    "plt.rc('text', usetex=True)\n",
    "plt.rc('font', family='STIXGeneral')"
   ]
  },
  {
   "cell_type": "markdown",
   "id": "9f3f8be4-acf8-44a6-a9e5-d0745cca98b3",
   "metadata": {},
   "source": [
    "# Coincidence gamma spectroscopy\n",
    "## Sodium $e^+e^- $ annihilation (511keV - 511keV)\n",
    "\n",
    "Values TOTALSUM and REALTIME taken from 'Results/4.1.4/*.mcd' files"
   ]
  },
  {
   "cell_type": "code",
   "execution_count": 3,
   "id": "4e173fa8-ad10-4f9b-b3a4-b8bf7f470a97",
   "metadata": {},
   "outputs": [
    {
     "name": "stderr",
     "output_type": "stream",
     "text": [
      "ic| 24/123.136: 0.1949064449064449\n",
      "ic| 59/123.155: 0.47907108927773945\n",
      "ic| 84/129.882: 0.6467408878828474\n",
      "ic| 48/122.609: 0.3914883899224364\n"
     ]
    },
    {
     "data": {
      "text/plain": [
       "0.3914883899224364"
      ]
     },
     "execution_count": 3,
     "metadata": {},
     "output_type": "execute_result"
    }
   ],
   "source": [
    "ic(24/123.136)\n",
    "ic(59/123.155)\n",
    "ic(84/129.882)\n",
    "ic(48/122.609)"
   ]
  },
  {
   "cell_type": "markdown",
   "id": "f1552a06-a4b6-4789-980f-0c5ae7b6b654",
   "metadata": {},
   "source": [
    "deflection| sum | time | count rate\n",
    ":-   |-|-|:-\n",
    "0cm  | 24 | 123.136s | 0.1949064449064449 $s^{-1}$\n",
    "-1cm | 59 | 123.155s | 0.47907108927773945 $s^{-1}$\n",
    "-2cm | 84 | 129.882s | 0.6467408878828474 $s^{-1}$\n",
    "-3cm | 48 | 122.609s | 0.3914883899224364 $s^{-1}$\n",
    "\n",
    "Maximal count rate at a deflection of -2cm."
   ]
  },
  {
   "cell_type": "code",
   "execution_count": 9,
   "id": "98a4b05a-1776-48c0-a8bb-bed2a09e1b6e",
   "metadata": {},
   "outputs": [
    {
     "data": {
      "image/png": "[encoded data removed]",
      "text/plain": [
       "<Figure size 640x480 with 1 Axes>"
      ]
     },
     "metadata": {},
     "output_type": "display_data"
    }
   ],
   "source": [
    "count_rate = [48/122.609, 84/129.882, 59/123.155,24/123.136]\n",
    "deflection = [-3,-2,-1,0]\n",
    "\n",
    "x_error_points = [-3,-2,-1,0]\n",
    "y_error_points = [48/122.609, 84/129.882, 59/123.155,24/123.136]\n",
    "x_errors = [0.2,0.2,0.2,0.2]\n",
    "y_errors = [np.sqrt(48)/122.609, np.sqrt(84)/129.882, np.sqrt(59)/123.155,np.sqrt(24)/123.136]\n",
    "    \n",
    "fig, ax = plt.subplots()\n",
    "ax.plot(deflection, count_rate, 'b', linewidth=.7)\n",
    "ax.set_title('Winkelabhängigkeit der Gammaquantenkoinzidenz \\n Vernichtungsstrahlung')\n",
    "ax.errorbar(x_error_points, y_error_points, xerr=x_errors, yerr=y_errors, fmt='|', capsize=3, color='b',linewidth=.5, label='Fehler')\n",
    "ax.set(xlabel=f'Auslenkung $\\\\Delta$x [$cm$]', ylabel=f' Zählrate [$s^{-1}$] ')\n",
    "ax.legend()\n",
    "plt.savefig(\"plots/Koinzidenzplot Vernichtungsstrahlung.pdf\")\n",
    "plt.show()"
   ]
  },
  {
   "cell_type": "markdown",
   "id": "a264810c-6658-4021-abe4-257a7eaa7a5c",
   "metadata": {},
   "source": [
    "## Sodium $e^+e^- $ annihilation and $\\gamma$-decay (511keV - 1275keV)"
   ]
  },
  {
   "cell_type": "code",
   "execution_count": null,
   "id": "3df9813b-a088-4c14-a792-3a996cdc03c7",
   "metadata": {},
   "outputs": [],
   "source": [
    "ic(1158/422.627) # 30 degrees\n",
    "ic(1212/421.342) # 50 degrees\n",
    "ic(1150/421.441) # 70 degrees\n",
    "\n",
    "count_rate_2 = [1158/422.627 , 1212/421.342, 1150/421.441]\n",
    "angle_2 = [30,50,70]\n",
    "\n",
    "fig, ax = plt.subplots()\n",
    "ax.plot(angle_2, count_rate_2, 'b', linewidth=.7)\n",
    "ax.set_title(f'Winkelabhängigkeit der Gammaquantenkoinzidenz \\n Vernichtungsstrahlung $\\\\&$ Gammazerfall')\n",
    "ax.set(xlabel=f'Auslenkwinkel $\\\\phi$', ylabel=f'Zählrate [$s^{-1}$] ')\n",
    "plt.savefig(\"plots/Koinzidenzplot Vernichtungsstrahlung Gammazerfall.pdf\")\n",
    "plt.show()"
   ]
  },
  {
   "cell_type": "markdown",
   "id": "661b8fba-5186-454f-9394-5bfeb03a9ada",
   "metadata": {},
   "source": [
    "We should actually expect a lower count rate here than at the 511-511 coincidence"
   ]
  },
  {
   "cell_type": "markdown",
   "id": "94ac6909-6025-40cf-aaae-4c1d8f99f1c7",
   "metadata": {},
   "source": [
    "## Cobalt decay cascade"
   ]
  },
  {
   "cell_type": "markdown",
   "id": "b3855372-9c5a-456c-b2ca-a23916e7a95d",
   "metadata": {},
   "source": [
    "## Angular Correlation Function\n",
    "\n",
    "\\begin{align}\n",
    "    W(\\vartheta) &= 1 + A_2P_2(\\cos\\vartheta) + A_4P_4(\\cos\\vartheta) \\\\\n",
    "    P_2          &= \\frac{1}{2}\\left(3\\cos^2(\\vartheta) - 1 \\right) \\\\\n",
    "    P_4          &= \\frac{1}{8}\\left(35\\cos^4(\\vartheta) - 30\\cos^2(\\vartheta) + 3 \\right)\n",
    "\\end{align}\n",
    "The coefficients $A_2, A_4$ are actually more complicated to compute (equations (2.12) and (2.13) in the manual), but for now we read them from the table of coefficients $F_\\nu(I,I',L,L')$. \\\n",
    "This simplified calculation is adopted from the manual page 13."
   ]
  },
  {
   "cell_type": "code",
   "execution_count": null,
   "id": "c78c1fa1-3900-4459-9b0e-bfb10b295370",
   "metadata": {},
   "outputs": [],
   "source": [
    "# coefficients F(I,I`,L,L`)\n",
    "df = pd.read_excel(\"angularcorrelationcoefficient.ods\")\n",
    "df.set_index(['I','I’'], inplace=True)\n",
    "print(df)\n",
    "'''\n",
    "latex_table = df.to_latex(\n",
    "    # index=False,  \n",
    "    caption=\"Koeffizienten der Winkelverteilungsfunktion\",  # The caption to appear above the table in the LaTeX document\n",
    "    label=\"tab:angularcorrelationcoefficient\",  # A label used for referencing the table within the LaTeX document\n",
    "    position=\"ht\",  # The preferred positions where the table should be placed in the document ('here', 'top', 'bottom', 'page')\n",
    "    column_format=\"llrrrrrr\",  # The format of the columns: left-aligend first column and center-aligned remaining columns as per APA guidelines\n",
    "    escape=False,  \n",
    "    float_format=\"{:0.4f}\".format  \n",
    ")\n",
    "\n",
    "print(latex_table)\n",
    "'''\n",
    "# angular correlation function\n",
    "def angular(theta, i0, i1, i2, l1, l2,):\n",
    "    '''\n",
    "    theta: angle between the two detectors\n",
    "    i0: first level of cascade\n",
    "    i1: second level of cascade\n",
    "    i2: third level of cascade\n",
    "        i.e. a cascade of 4-2-0 would have i0=4, i1=2, i2=0\n",
    "    l1: first transition\n",
    "    l2: second transition\n",
    "    \n",
    "    this function assumes L1 = L2, like in the example in the manual; \n",
    "    i suspect this doesnt always have to be the case\n",
    "    '''\n",
    "    thetadeg= theta / 180 * np.pi \n",
    "    a_nu2_t1 = df.loc[(i1,i0),f'2-{l1}{l1}']\n",
    "    a_nu2_t2 = df.loc[(i1,i2), f'2-{l2}{l2}']\n",
    "    a2 = a_nu2_t1 * a_nu2_t2\n",
    "    p2 = .5 * (3*np.cos(thetadeg)**2 - 1)\n",
    "\n",
    "    a_nu4_t1 = df.loc[(i1,i0), f'4-{l1}{l1}']\n",
    "    a_nu4_t2 = df.loc[(i1,i2), f'4-{l2}{l2}']\n",
    "    a4 = a_nu4_t1 * a_nu4_t2\n",
    "    p4 = .125 * (35*np.cos(thetadeg)**4 - 30*np.cos(thetadeg)**2 + 3)\n",
    "    \n",
    "    return 1 + a2*p2 + a4*p4\n",
    "\n",
    "\n",
    "'''\n",
    "for correct calculation of a2 and a4 see manual chapter 2.4.2, for now it isn't implemented because of the missing delta\n",
    "what is this Mischungsverhältnis delta. we just kinda ignored it\n",
    "'''\n",
    "plt.rc('text', usetex=True)\n",
    "plt.rc('font', family='STIXGeneral')\n",
    "fig, ax = plt.subplots()\n",
    "x = np.linspace(0,100,1000)\n",
    "\n",
    "ax.plot(x,angular(x,4,2,0,2,2), 'b', label=f'W($\\\\vartheta$) 4-2-0')\n",
    "ax.plot(x,angular(x,0,2,0,2,2), 'b*', markersize=.3, label=f'W($\\\\vartheta$) 0-2-0')\n",
    "ax.plot(x,angular(x,2,2,0,2,2), 'b--', label=f'W($\\\\vartheta$) 2-2-0')\n",
    "\n",
    "ax.set_title(f'Winkelkorrelationen W$(\\\\vartheta)$ verschiedener Zerfallskaskaden')\n",
    "ax.set(xlabel=f'Winkel $\\\\vartheta$', ylabel=f'W$(\\\\vartheta)$')\n",
    "ax.set_ylim(0, 2) \n",
    "ax.axhline(1, linewidth=.5, color='k', label=f'W=1 Linie') # W = 1 line\n",
    "sweetspot = np.interp(-1,-angular(x,4,2,0,2,2), x) # np.interp works primarily for increasing functions, which is why we invert it\n",
    "ic(sweetspot)\n",
    "ax.axvline(sweetspot, linewidth=.5, color='r', label=f'\"sweet-spot Winkel\"') # angle at which W = 1\n",
    "ax.legend()\n",
    "plt.savefig(\"plots/Winkelkorrelationen.pdf\")\n",
    "plt.show()"
   ]
  },
  {
   "cell_type": "markdown",
   "id": "f307d125-1e84-487f-9638-fcf288e1d354",
   "metadata": {},
   "source": [
    "So the sweetspot angle doesn't lie exactly at 55 degrees as the plot in the manual shows, but at 53 degrees. Probably because the source of the plot didn't simplify the calculation of the $A_\\nu$ coefficients. The plot also did not specify the jumps $L, L'$ for different angular correlations."
   ]
  },
  {
   "cell_type": "code",
   "execution_count": null,
   "id": "9c156d34-c239-4cf1-a0db-e40d2b33623f",
   "metadata": {},
   "outputs": [],
   "source": [
    "count_rate_3 = [952/421.577, 872/426.045, 830/421.920, 842/424.541]\n",
    "angle_3 = [10,40,55,80]\n",
    "\n",
    "# [counter A/1,counter B/2]\n",
    "counter = [ [128551/421.577,123698/421.577],[132415/426.045,124920/426.045],[130547/421.920,123973/421.920],[132379/424.541,123854/424.541] ]\n",
    "\n",
    "\n",
    "fig, ax = plt.subplots()\n",
    "ax.plot(angle_3, count_rate_3, 'b', linewidth=.7)\n",
    "ax.set_title(f'Winkelabhängigkeit der Gammaquantenkoinzidenz \\n Kaskadenzerfall')\n",
    "ax.set(xlabel=f'Winkel $\\\\vartheta$', ylabel=f'Zählrate [$s^{-1}$] ')\n",
    "# plt.savefig(\"plots/Koinzidenzplot Vernichtungsstrahlung Kaskadenzerfall.pdf\")\n",
    "plt.show()"
   ]
  },
  {
   "cell_type": "code",
   "execution_count": null,
   "id": "9c36b8a5-d3c1-4e78-b9a2-c04a0b0f7aa3",
   "metadata": {},
   "outputs": [],
   "source": [
    "# q value at 55 degrees, where W(theta) is assumed to be 1\n",
    "z1 = 130547/421.920\n",
    "z2 = 123973/421.920\n",
    "z_co = 830/421.920\n",
    "q_value = (z1 * z2) / (z_co * 2)\n",
    "ic(q_value)\n",
    "\n",
    "# angular correlation\n",
    "angular_data = []\n",
    "for k in range(4):\n",
    "    w = 2 * (count_rate_3[k] / (counter[k][0] * counter[k][1])) * q_value\n",
    "    angular_data.append(w)\n",
    "\n",
    "x = np.linspace(0,100,1000)\n",
    "fig, ax = plt.subplots()\n",
    "ax.plot(angle_3, angular_data, 'k', linewidth=.7, label=\"Daten\")\n",
    "ax.plot(x,angular(x,4,2,0,2,2), 'b', label=f'W($\\\\vartheta$) 4-2-0')\n",
    "ax.set_title(f'Winkelkorrelationsfunktion \\n Gemessen vs Theorie')\n",
    "ax.set(xlabel=f'Winkel $\\\\vartheta$', ylabel=f'W$(\\\\vartheta)$')\n",
    "plt.legend()\n",
    "plt.savefig(\"plots/Winkelkorrelationen Vergleich.pdf\")\n",
    "plt.show()"
   ]
  }
 ],
 "metadata": {
  "kernelspec": {
   "display_name": "Python 3 (ipykernel)",
   "language": "python",
   "name": "python3"
  },
  "language_info": {
   "codemirror_mode": {
    "name": "ipython",
    "version": 3
   },
   "file_extension": ".py",
   "mimetype": "text/x-python",
   "name": "python",
   "nbconvert_exporter": "python",
   "pygments_lexer": "ipython3",
   "version": "3.13.1"
  }
 },
 "nbformat": 4,
 "nbformat_minor": 5
}
