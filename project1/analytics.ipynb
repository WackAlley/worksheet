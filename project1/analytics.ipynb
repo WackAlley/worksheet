{
 "cells": [
  {
   "cell_type": "code",
   "execution_count": 2,
   "id": "6c01fbe9-da4c-4b79-95b5-b133df871ba5",
   "metadata": {},
   "outputs": [],
   "source": [
    "import numpy as np\n",
    "from datetime import datetime\n",
    "import matplotlib.pyplot as plt\n",
    "\n",
    "import pandas"
   ]
  },
  {
   "cell_type": "code",
   "execution_count": 3,
   "id": "e7fb180a-4cad-47d9-9a57-2ed88fb08660",
   "metadata": {},
   "outputs": [
    {
     "data": {
      "text/html": [
       "<div>\n",
       "<style scoped>\n",
       "    .dataframe tbody tr th:only-of-type {\n",
       "        vertical-align: middle;\n",
       "    }\n",
       "\n",
       "    .dataframe tbody tr th {\n",
       "        vertical-align: top;\n",
       "    }\n",
       "\n",
       "    .dataframe thead th {\n",
       "        text-align: right;\n",
       "    }\n",
       "</style>\n",
       "<table border=\"1\" class=\"dataframe\">\n",
       "  <thead>\n",
       "    <tr style=\"text-align: right;\">\n",
       "      <th></th>\n",
       "      <th>id</th>\n",
       "      <th>name</th>\n",
       "      <th>station</th>\n",
       "      <th>dateTime</th>\n",
       "      <th>cancelled</th>\n",
       "      <th>direction</th>\n",
       "      <th>delay</th>\n",
       "      <th>platform</th>\n",
       "    </tr>\n",
       "  </thead>\n",
       "  <tbody>\n",
       "    <tr>\n",
       "      <th>0</th>\n",
       "      <td>2|#VN#1#ST#1729714977#PI#0#ZI#399280#TA#0#DA#2...</td>\n",
       "      <td>S 3</td>\n",
       "      <td>&lt;class 'pyhafas.types.fptf.Station'&gt;({'id': '8...</td>\n",
       "      <td>2024-10-28 01:17:00+01:00</td>\n",
       "      <td>False</td>\n",
       "      <td>Darmstadt Hbf</td>\n",
       "      <td>0 days 00:01:00</td>\n",
       "      <td>101</td>\n",
       "    </tr>\n",
       "    <tr>\n",
       "      <th>1</th>\n",
       "      <td>2|#VN#1#ST#1729714977#PI#0#ZI#398989#TA#0#DA#2...</td>\n",
       "      <td>S 1</td>\n",
       "      <td>&lt;class 'pyhafas.types.fptf.Station'&gt;({'id': '8...</td>\n",
       "      <td>2024-10-28 01:19:00+01:00</td>\n",
       "      <td>False</td>\n",
       "      <td>Rödermark-Ober Roden</td>\n",
       "      <td>0 days 00:02:00</td>\n",
       "      <td>102</td>\n",
       "    </tr>\n",
       "    <tr>\n",
       "      <th>2</th>\n",
       "      <td>2|#VN#1#ST#1729714977#PI#0#ZI#402008#TA#0#DA#2...</td>\n",
       "      <td>S 2</td>\n",
       "      <td>&lt;class 'pyhafas.types.fptf.Station'&gt;({'id': '8...</td>\n",
       "      <td>2024-10-28 01:21:00+01:00</td>\n",
       "      <td>False</td>\n",
       "      <td>Niedernhausen(Taunus)</td>\n",
       "      <td>0 days 00:02:00</td>\n",
       "      <td>21</td>\n",
       "    </tr>\n",
       "    <tr>\n",
       "      <th>3</th>\n",
       "      <td>2|#VN#1#ST#1729714977#PI#0#ZI#402037#TA#0#DA#2...</td>\n",
       "      <td>S 5</td>\n",
       "      <td>&lt;class 'pyhafas.types.fptf.Station'&gt;({'id': '8...</td>\n",
       "      <td>2024-10-28 01:22:00+01:00</td>\n",
       "      <td>False</td>\n",
       "      <td>Friedrichsdorf(Taunus)</td>\n",
       "      <td>0 days 00:00:00</td>\n",
       "      <td>12</td>\n",
       "    </tr>\n",
       "    <tr>\n",
       "      <th>4</th>\n",
       "      <td>2|#VN#1#ST#1729714977#PI#0#ZI#402089#TA#0#DA#2...</td>\n",
       "      <td>S 8</td>\n",
       "      <td>&lt;class 'pyhafas.types.fptf.Station'&gt;({'id': '8...</td>\n",
       "      <td>2024-10-28 01:23:00+01:00</td>\n",
       "      <td>False</td>\n",
       "      <td>Wiesbaden Hbf</td>\n",
       "      <td>0 days 00:00:00</td>\n",
       "      <td>7</td>\n",
       "    </tr>\n",
       "  </tbody>\n",
       "</table>\n",
       "</div>"
      ],
      "text/plain": [
       "                                                  id name  \\\n",
       "0  2|#VN#1#ST#1729714977#PI#0#ZI#399280#TA#0#DA#2...  S 3   \n",
       "1  2|#VN#1#ST#1729714977#PI#0#ZI#398989#TA#0#DA#2...  S 1   \n",
       "2  2|#VN#1#ST#1729714977#PI#0#ZI#402008#TA#0#DA#2...  S 2   \n",
       "3  2|#VN#1#ST#1729714977#PI#0#ZI#402037#TA#0#DA#2...  S 5   \n",
       "4  2|#VN#1#ST#1729714977#PI#0#ZI#402089#TA#0#DA#2...  S 8   \n",
       "\n",
       "                                             station  \\\n",
       "0  <class 'pyhafas.types.fptf.Station'>({'id': '8...   \n",
       "1  <class 'pyhafas.types.fptf.Station'>({'id': '8...   \n",
       "2  <class 'pyhafas.types.fptf.Station'>({'id': '8...   \n",
       "3  <class 'pyhafas.types.fptf.Station'>({'id': '8...   \n",
       "4  <class 'pyhafas.types.fptf.Station'>({'id': '8...   \n",
       "\n",
       "                    dateTime  cancelled               direction  \\\n",
       "0  2024-10-28 01:17:00+01:00      False           Darmstadt Hbf   \n",
       "1  2024-10-28 01:19:00+01:00      False    Rödermark-Ober Roden   \n",
       "2  2024-10-28 01:21:00+01:00      False   Niedernhausen(Taunus)   \n",
       "3  2024-10-28 01:22:00+01:00      False  Friedrichsdorf(Taunus)   \n",
       "4  2024-10-28 01:23:00+01:00      False           Wiesbaden Hbf   \n",
       "\n",
       "             delay  platform  \n",
       "0  0 days 00:01:00       101  \n",
       "1  0 days 00:02:00       102  \n",
       "2  0 days 00:02:00        21  \n",
       "3  0 days 00:00:00        12  \n",
       "4  0 days 00:00:00         7  "
      ]
     },
     "execution_count": 3,
     "metadata": {},
     "output_type": "execute_result"
    }
   ],
   "source": [
    "# result.csv contains the output of the hafas API request. Results produced by Marvin Hermann\n",
    "# for reproduction, change the filepath to appropiate path\n",
    "filepath = '/home/alex/Documents/Repositories/worksheet/datafiles/result.csv'\n",
    "\n",
    "data = pandas.read_csv(filepath)\n",
    "data.columns\n",
    "data.head()"
   ]
  },
  {
   "cell_type": "markdown",
   "id": "50a9242c-ff54-421c-93da-2e134c0d742c",
   "metadata": {},
   "source": [
    "## Rush hours"
   ]
  },
  {
   "cell_type": "code",
   "execution_count": 10,
   "id": "677ab313-5d64-4013-b484-06c465c1fa4b",
   "metadata": {},
   "outputs": [
    {
     "data": {
      "image/png": "[encoded data removed]",
      "text/plain": [
       "<Figure size 1500x500 with 1 Axes>"
      ]
     },
     "metadata": {},
     "output_type": "display_data"
    }
   ],
   "source": [
    "data['dateTime']=data['dateTime'].astype('datetime64[ns, Europe/Berlin]')\n",
    "data.columns\n",
    "\n",
    "plt.figure(figsize=(15,5))\n",
    "plt.xlabel('time of departure')\n",
    "plt.ylabel('count')\n",
    "plt.title('Rush hours')\n",
    "plt.xticks(rotation=30)\n",
    "n, bins, patches = plt.hist(data['dateTime'], bins=100, rwidth=.5)\n",
    "plt.show()"
   ]
  },
  {
   "cell_type": "markdown",
   "id": "b913a0ae-af9d-4dfc-8a90-ce4c0327bf8b",
   "metadata": {},
   "source": [
    "There are two bumps, one between 6am and 9am and the other between 3pm and 6pm. \\\n",
    "For a more quantitative answer, better sum the number of departures in 1 (or 2) hour - intervals and see which interval is the biggest"
   ]
  },
  {
   "cell_type": "markdown",
   "id": "8ce729c3-fca0-4aa0-b208-bf4958d2b6be",
   "metadata": {},
   "source": [
    "## Departures"
   ]
  },
  {
   "cell_type": "code",
   "execution_count": 5,
   "id": "b34a3d37-1910-490b-ad02-80d937273aa7",
   "metadata": {},
   "outputs": [
    {
     "name": "stdout",
     "output_type": "stream",
     "text": [
      "<class 'pyhafas.types.fptf.Station'>({'id': '8098105', 'lid': 'A=1@O=Frankfurt Hbf (tief)@X=8664136@Y=50107410@U=80@L=8098105@i=U×008067016@', 'name': 'Frankfurt Hbf (tief)', 'latitude': 50.10741, 'longitude': 8.664136})\n"
     ]
    },
    {
     "data": {
      "image/png": "[encoded data removed]",
      "text/plain": [
       "<Figure size 500x500 with 1 Axes>"
      ]
     },
     "metadata": {},
     "output_type": "display_data"
    }
   ],
   "source": [
    "departures = data['station']\n",
    "print(departures[1])\n",
    "# creates a list of strings from the location string. \n",
    "# Entry number two addresses the station name\n",
    "deplist = []\n",
    "\n",
    "for i in range(len(departures)):\n",
    "    x = departures[i].split(',')\n",
    "    deplist.append(x[2])\n",
    "\n",
    "plt.figure(figsize=(5,5))\n",
    "plt.xlabel('station of departure')\n",
    "plt.ylabel('count')\n",
    "plt.title('Departures')\n",
    "n, bins, patches = plt.hist(deplist, bins=10, rwidth=1)\n",
    "plt.show()"
   ]
  },
  {
   "cell_type": "markdown",
   "id": "d266f961-ab55-4963-9484-a5e9665f7f56",
   "metadata": {},
   "source": [
    "This one is more straightforward. More trains depart from the central station underground. I don't think any further work is needed here."
   ]
  },
  {
   "cell_type": "markdown",
   "id": "832fc3a7-559a-4d3f-b942-a064fbb85d13",
   "metadata": {},
   "source": [
    "## Departures, in platform"
   ]
  },
  {
   "cell_type": "code",
   "execution_count": 6,
   "id": "23e6a44c-1b74-4231-8a35-8654ac371aea",
   "metadata": {},
   "outputs": [
    {
     "name": "stdout",
     "output_type": "stream",
     "text": [
      "104\n"
     ]
    },
    {
     "data": {
      "image/png": "[encoded data removed]",
      "text/plain": [
       "<Figure size 640x480 with 1 Axes>"
      ]
     },
     "metadata": {},
     "output_type": "display_data"
    },
    {
     "data": {
      "image/png": "[encoded data removed]",
      "text/plain": [
       "<Figure size 640x480 with 1 Axes>"
      ]
     },
     "metadata": {},
     "output_type": "display_data"
    }
   ],
   "source": [
    "data['platform']=data['platform'].astype('int16')\n",
    "print(data['platform'].max())\n",
    "\n",
    "n, bins, patches = plt.hist(data['platform'][data['platform']>99], 4, rwidth=.5)\n",
    "plt.show()\n",
    "n, bins, patches = plt.hist(data['platform'][data['platform']<50], 26, rwidth=.5)"
   ]
  },
  {
   "cell_type": "code",
   "execution_count": 7,
   "id": "8f620489-33bd-49f0-b107-5c3657620f52",
   "metadata": {},
   "outputs": [
    {
     "data": {
      "text/html": [
       "<div>\n",
       "<style scoped>\n",
       "    .dataframe tbody tr th:only-of-type {\n",
       "        vertical-align: middle;\n",
       "    }\n",
       "\n",
       "    .dataframe tbody tr th {\n",
       "        vertical-align: top;\n",
       "    }\n",
       "\n",
       "    .dataframe thead th {\n",
       "        text-align: right;\n",
       "    }\n",
       "</style>\n",
       "<table border=\"1\" class=\"dataframe\">\n",
       "  <thead>\n",
       "    <tr style=\"text-align: right;\">\n",
       "      <th></th>\n",
       "      <th>id</th>\n",
       "      <th>name</th>\n",
       "      <th>station</th>\n",
       "      <th>dateTime</th>\n",
       "      <th>cancelled</th>\n",
       "      <th>direction</th>\n",
       "      <th>delay</th>\n",
       "      <th>platform</th>\n",
       "    </tr>\n",
       "  </thead>\n",
       "  <tbody>\n",
       "    <tr>\n",
       "      <th>0</th>\n",
       "      <td>2|#VN#1#ST#1729714977#PI#0#ZI#399280#TA#0#DA#2...</td>\n",
       "      <td>S 3</td>\n",
       "      <td>&lt;class 'pyhafas.types.fptf.Station'&gt;({'id': '8...</td>\n",
       "      <td>2024-10-28 01:17:00+01:00</td>\n",
       "      <td>False</td>\n",
       "      <td>Darmstadt Hbf</td>\n",
       "      <td>0 days 00:01:00</td>\n",
       "      <td>101</td>\n",
       "    </tr>\n",
       "    <tr>\n",
       "      <th>1</th>\n",
       "      <td>2|#VN#1#ST#1729714977#PI#0#ZI#398989#TA#0#DA#2...</td>\n",
       "      <td>S 1</td>\n",
       "      <td>&lt;class 'pyhafas.types.fptf.Station'&gt;({'id': '8...</td>\n",
       "      <td>2024-10-28 01:19:00+01:00</td>\n",
       "      <td>False</td>\n",
       "      <td>Rödermark-Ober Roden</td>\n",
       "      <td>0 days 00:02:00</td>\n",
       "      <td>102</td>\n",
       "    </tr>\n",
       "    <tr>\n",
       "      <th>2</th>\n",
       "      <td>2|#VN#1#ST#1729714977#PI#0#ZI#402008#TA#0#DA#2...</td>\n",
       "      <td>S 2</td>\n",
       "      <td>&lt;class 'pyhafas.types.fptf.Station'&gt;({'id': '8...</td>\n",
       "      <td>2024-10-28 01:21:00+01:00</td>\n",
       "      <td>False</td>\n",
       "      <td>Niedernhausen(Taunus)</td>\n",
       "      <td>0 days 00:02:00</td>\n",
       "      <td>21</td>\n",
       "    </tr>\n",
       "    <tr>\n",
       "      <th>3</th>\n",
       "      <td>2|#VN#1#ST#1729714977#PI#0#ZI#402037#TA#0#DA#2...</td>\n",
       "      <td>S 5</td>\n",
       "      <td>&lt;class 'pyhafas.types.fptf.Station'&gt;({'id': '8...</td>\n",
       "      <td>2024-10-28 01:22:00+01:00</td>\n",
       "      <td>False</td>\n",
       "      <td>Friedrichsdorf(Taunus)</td>\n",
       "      <td>0 days 00:00:00</td>\n",
       "      <td>12</td>\n",
       "    </tr>\n",
       "    <tr>\n",
       "      <th>4</th>\n",
       "      <td>2|#VN#1#ST#1729714977#PI#0#ZI#402089#TA#0#DA#2...</td>\n",
       "      <td>S 8</td>\n",
       "      <td>&lt;class 'pyhafas.types.fptf.Station'&gt;({'id': '8...</td>\n",
       "      <td>2024-10-28 01:23:00+01:00</td>\n",
       "      <td>False</td>\n",
       "      <td>Wiesbaden Hbf</td>\n",
       "      <td>0 days 00:00:00</td>\n",
       "      <td>7</td>\n",
       "    </tr>\n",
       "  </tbody>\n",
       "</table>\n",
       "</div>"
      ],
      "text/plain": [
       "                                                  id name  \\\n",
       "0  2|#VN#1#ST#1729714977#PI#0#ZI#399280#TA#0#DA#2...  S 3   \n",
       "1  2|#VN#1#ST#1729714977#PI#0#ZI#398989#TA#0#DA#2...  S 1   \n",
       "2  2|#VN#1#ST#1729714977#PI#0#ZI#402008#TA#0#DA#2...  S 2   \n",
       "3  2|#VN#1#ST#1729714977#PI#0#ZI#402037#TA#0#DA#2...  S 5   \n",
       "4  2|#VN#1#ST#1729714977#PI#0#ZI#402089#TA#0#DA#2...  S 8   \n",
       "\n",
       "                                             station  \\\n",
       "0  <class 'pyhafas.types.fptf.Station'>({'id': '8...   \n",
       "1  <class 'pyhafas.types.fptf.Station'>({'id': '8...   \n",
       "2  <class 'pyhafas.types.fptf.Station'>({'id': '8...   \n",
       "3  <class 'pyhafas.types.fptf.Station'>({'id': '8...   \n",
       "4  <class 'pyhafas.types.fptf.Station'>({'id': '8...   \n",
       "\n",
       "                   dateTime  cancelled               direction  \\\n",
       "0 2024-10-28 01:17:00+01:00      False           Darmstadt Hbf   \n",
       "1 2024-10-28 01:19:00+01:00      False    Rödermark-Ober Roden   \n",
       "2 2024-10-28 01:21:00+01:00      False   Niedernhausen(Taunus)   \n",
       "3 2024-10-28 01:22:00+01:00      False  Friedrichsdorf(Taunus)   \n",
       "4 2024-10-28 01:23:00+01:00      False           Wiesbaden Hbf   \n",
       "\n",
       "             delay  platform  \n",
       "0  0 days 00:01:00       101  \n",
       "1  0 days 00:02:00       102  \n",
       "2  0 days 00:02:00        21  \n",
       "3  0 days 00:00:00        12  \n",
       "4  0 days 00:00:00         7  "
      ]
     },
     "execution_count": 7,
     "metadata": {},
     "output_type": "execute_result"
    }
   ],
   "source": [
    "data.head()"
   ]
  },
  {
   "cell_type": "code",
   "execution_count": 8,
   "id": "5d0b8701-c845-4556-8655-7af9a2849d66",
   "metadata": {},
   "outputs": [
    {
     "name": "stdout",
     "output_type": "stream",
     "text": [
      "bool\n",
      "Anzahl an Ausfällen 4 Anzahl der Fahrten 1492\n"
     ]
    },
    {
     "data": {
      "image/png": "[encoded data removed]",
      "text/plain": [
       "<Figure size 640x480 with 1 Axes>"
      ]
     },
     "metadata": {},
     "output_type": "display_data"
    }
   ],
   "source": [
    "print(data['cancelled'].dtype)\n",
    "'''\n",
    "für umwandlungen von string zu boolean\n",
    "#data['cancelled']=data['cancelled'].map({'False':False, 'True':True})\n",
    "'''\n",
    "\n",
    "cancelled = data['dateTime'][data['cancelled']] # boolean mask\n",
    "print(\"Anzahl an Ausfällen\", len(cancelled), \"Anzahl der Fahrten\", len(data['cancelled']))\n",
    "n, bins, patches = plt.hist(cancelled, 200)"
   ]
  },
  {
   "cell_type": "code",
   "execution_count": null,
   "id": "63942b18-37e1-4a0f-b7f6-bb733a3e507a",
   "metadata": {},
   "outputs": [],
   "source": []
  }
 ],
 "metadata": {
  "kernelspec": {
   "display_name": "Python 3 (ipykernel)",
   "language": "python",
   "name": "python3"
  },
  "language_info": {
   "codemirror_mode": {
    "name": "ipython",
    "version": 3
   },
   "file_extension": ".py",
   "mimetype": "text/x-python",
   "name": "python",
   "nbconvert_exporter": "python",
   "pygments_lexer": "ipython3",
   "version": "3.12.7"
  }
 },
 "nbformat": 4,
 "nbformat_minor": 5
}
