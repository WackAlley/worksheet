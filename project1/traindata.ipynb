{
 "cells": [
  {
   "cell_type": "code",
   "execution_count": 14,
   "id": "6c2ca6cb-8dbf-4575-a16e-afb9e02f0ff1",
   "metadata": {},
   "outputs": [
    {
     "name": "stdout",
     "output_type": "stream",
     "text": [
      "[<class 'pyhafas.types.fptf.StationBoardLeg'>({'id': '2|#VN#1#ST#1729714977#PI#0#ZI#474918#TA#0#DA#271024#1S#8100013#1T#1234#LS#8000080#LT#2121#PU#80#RT#1#CA#ICE#ZE#26#ZB#ICE   26#PC#0#FR#8100013#FT#1234#TO#8000080#TT#2121#', 'name': 'ICE 26', 'station': <class 'pyhafas.types.fptf.Station'>({'id': '8000105', 'lid': 'A=1@O=Frankfurt(Main)Hbf@X=8663785@Y=50107149@U=80@L=8000105@i=U×008011068@', 'name': 'Frankfurt(Main)Hbf', 'latitude': 50.107149, 'longitude': 8.663785}), 'dateTime': datetime.datetime(2024, 10, 27, 17, 49, tzinfo=<DstTzInfo 'Europe/Berlin' CET+1:00:00 STD>), 'cancelled': False, 'direction': 'Dortmund Hbf', 'delay': datetime.timedelta(seconds=480), 'platform': '7'}), <class 'pyhafas.types.fptf.StationBoardLeg'>({'id': '2|#VN#1#ST#1729714977#PI#0#ZI#484448#TA#0#DA#271024#1S#8011102#1T#1316#LS#8503000#LT#2200#PU#80#RT#1#CA#ICE#ZE#79#ZB#ICE   79#PC#0#FR#8011102#FT#1316#TO#8503000#TT#2200#', 'name': 'ICE 79', 'station': <class 'pyhafas.types.fptf.Station'>({'id': '8000105', 'lid': 'A=1@O=Frankfurt(Main)Hbf@X=8663785@Y=50107149@U=80@L=8000105@i=U×008011068@', 'name': 'Frankfurt(Main)Hbf', 'latitude': 50.107149, 'longitude': 8.663785}), 'dateTime': datetime.datetime(2024, 10, 27, 17, 52, tzinfo=<DstTzInfo 'Europe/Berlin' CET+1:00:00 STD>), 'cancelled': False, 'direction': 'Zürich HB', 'delay': datetime.timedelta(seconds=180), 'platform': '9'}), <class 'pyhafas.types.fptf.StationBoardLeg'>({'id': '2|#VN#1#ST#1729714977#PI#0#ZI#317561#TA#0#DA#271024#1S#8000098#1T#1552#LS#8000261#LT#2107#PU#80#RT#1#CA#ICE#ZE#725#ZB#ICE  725#PC#0#FR#8000098#FT#1552#TO#8000261#TT#2107#', 'name': 'ICE 725', 'station': <class 'pyhafas.types.fptf.Station'>({'id': '8000105', 'lid': 'A=1@O=Frankfurt(Main)Hbf@X=8663785@Y=50107149@U=80@L=8000105@i=U×008011068@', 'name': 'Frankfurt(Main)Hbf', 'latitude': 50.107149, 'longitude': 8.663785}), 'dateTime': datetime.datetime(2024, 10, 27, 17, 53, tzinfo=<DstTzInfo 'Europe/Berlin' CET+1:00:00 STD>), 'cancelled': False, 'direction': 'München Hbf', 'delay': datetime.timedelta(seconds=300), 'platform': '8'}), <class 'pyhafas.types.fptf.StationBoardLeg'>({'id': '2|#VN#1#ST#1729714977#PI#0#ZI#311006#TA#0#DA#271024#1S#8500010#1T#1413#LS#8002549#LT#2139#PU#80#RT#1#CA#ICE#ZE#276#ZB#ICE  276#PC#0#FR#8500010#FT#1413#TO#8002549#TT#2139#', 'name': 'ICE 276', 'station': <class 'pyhafas.types.fptf.Station'>({'id': '8000105', 'lid': 'A=1@O=Frankfurt(Main)Hbf@X=8663785@Y=50107149@U=80@L=8000105@i=U×008011068@', 'name': 'Frankfurt(Main)Hbf', 'latitude': 50.107149, 'longitude': 8.663785}), 'dateTime': datetime.datetime(2024, 10, 27, 17, 58, tzinfo=<DstTzInfo 'Europe/Berlin' CET+1:00:00 STD>), 'cancelled': False, 'direction': 'Hamburg Hbf', 'delay': datetime.timedelta(seconds=60), 'platform': '7'}), <class 'pyhafas.types.fptf.StationBoardLeg'>({'id': '2|#VN#1#ST#1729714977#PI#0#ZI#301313#TA#0#DA#271024#1S#8000105#1T#1802#LS#8010255#LT#2214#PU#80#RT#1#CA#ICE#ZE#1032#ZB#ICE 1032#PC#0#FR#8000105#FT#1802#TO#8010255#TT#2214#', 'name': 'ICE 1032', 'station': <class 'pyhafas.types.fptf.Station'>({'id': '8000105', 'lid': 'A=1@O=Frankfurt(Main)Hbf@X=8663785@Y=50107149@U=80@L=8000105@i=U×008011068@', 'name': 'Frankfurt(Main)Hbf', 'latitude': 50.107149, 'longitude': 8.663785}), 'dateTime': datetime.datetime(2024, 10, 27, 18, 2, tzinfo=<DstTzInfo 'Europe/Berlin' CET+1:00:00 STD>), 'cancelled': False, 'direction': 'Berlin Ostbahnhof', 'delay': datetime.timedelta(0), 'platform': '12'})]\n"
     ]
    }
   ],
   "source": [
    "import datetime\n",
    "from typing import List\n",
    "\n",
    "# Part 1\n",
    "from pyhafas import HafasClient\n",
    "from pyhafas.profile import DBProfile\n",
    "from pyhafas.types.fptf import Leg\n",
    "\n",
    "client = HafasClient(DBProfile())\n",
    "\n",
    "# Part 2\n",
    "#locations = client.locations(\"Frankfurt\")\n",
    "#best_found_location = locations[0]\n",
    "#print(best_found_location)  # <class 'pyhafas.types.fptf.Station'>({'id': '008005556', 'name': 'Siegburg/Bonn', 'latitude': 50.794051, 'longitude': 7.202616})\n",
    "\n",
    "# Part 3\n",
    "departures: List[Leg] = client.departures(\n",
    "    station=8000105,\n",
    "    date=datetime.datetime.now(),\n",
    "    # date=datetime.datetime(2024, 10, 27, 12, 0, 0, 0),\n",
    "    max_trips=999,\n",
    "    duration=20,\n",
    "    products={\n",
    "        'long_distance_express': True,\n",
    "        'regional_express': False,\n",
    "        'regional': False,\n",
    "        'suburban': False,\n",
    "        'bus': False,\n",
    "        'ferry': False,\n",
    "        'subway': False,\n",
    "        'tram': False,\n",
    "        'taxi': False\n",
    "    }\n",
    ")\n",
    "\n",
    "print(departures)"
   ]
  }
 ],
 "metadata": {
  "kernelspec": {
   "display_name": "Python 3 (ipykernel)",
   "language": "python",
   "name": "python3"
  },
  "language_info": {
   "codemirror_mode": {
    "name": "ipython",
    "version": 3
   },
   "file_extension": ".py",
   "mimetype": "text/x-python",
   "name": "python",
   "nbconvert_exporter": "python",
   "pygments_lexer": "ipython3",
   "version": "3.12.7"
  }
 },
 "nbformat": 4,
 "nbformat_minor": 5
}
