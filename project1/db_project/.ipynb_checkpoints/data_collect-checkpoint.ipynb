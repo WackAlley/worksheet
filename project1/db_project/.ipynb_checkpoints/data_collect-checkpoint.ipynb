{
 "cells": [
  {
   "cell_type": "markdown",
   "id": "fcf8b247",
   "metadata": {},
   "source": [
    "# Requesting and Collecting Data from the DB API"
   ]
  },
  {
   "cell_type": "code",
   "execution_count": 1,
   "id": "d2154d9c",
   "metadata": {},
   "outputs": [
    {
     "data": {
      "text/plain": [
       "'\\n#!source .jupyter_venv/.venv/bin/activate #if you have an venv for your jupyter kernal, then activate it\\nimport sys\\n!{sys.executable} -m pip install pyhafas\\n!{sys.executable} -m pip install pandas\\n!{sys.executable} -m pip install pyarrow #needed in order to read and write feather files\\n'"
      ]
     },
     "execution_count": 1,
     "metadata": {},
     "output_type": "execute_result"
    }
   ],
   "source": [
    "# uncomment, to install the required packages\n",
    "\"\"\"\n",
    "#!source .jupyter_venv/.venv/bin/activate #if you have an venv for your jupyter kernal, then activate it\n",
    "import sys\n",
    "!{sys.executable} -m pip install pyhafas\n",
    "!{sys.executable} -m pip install pandas\n",
    "!{sys.executable} -m pip install pyarrow #needed in order to read and write feather files\n",
    "\"\"\""
   ]
  },
  {
   "cell_type": "markdown",
   "id": "3fea9466",
   "metadata": {},
   "source": [
    "# simplified program\n",
    "This is a simplified version of the program to request the data.\n",
    "The program which was used has additional features and can be found in the project folder."
   ]
  },
  {
   "cell_type": "markdown",
   "id": "3cf38162",
   "metadata": {},
   "source": [
    "The API does not provide delays that are too far in the past, so current data needs to be requested, and previous data must be updated multiple times throughout the day. "
   ]
  },
  {
   "cell_type": "code",
   "execution_count": 2,
   "id": "fb08a497",
   "metadata": {},
   "outputs": [],
   "source": [
    "from pyhafas import HafasClient\n",
    "from pyhafas.profile import DBProfile\n",
    "import pandas as pd \n",
    "from datetime import datetime\n",
    "from time import sleep"
   ]
  },
  {
   "cell_type": "code",
   "execution_count": 3,
   "id": "0b5675c4",
   "metadata": {},
   "outputs": [],
   "source": [
    "def request_data(start_time, products):\n",
    "    #requests data and returns it as pandas data frame\n",
    "    \n",
    "    request_specifications = {\n",
    "             'station': '8098105',\n",
    "             'date': start_time,\n",
    "             'duration': 1440,  # 1440 minutes = 1 day\n",
    "             'max_trips': 1e5,\n",
    "             'products': products\n",
    "    }\n",
    "    return pd.DataFrame((stationBoardLeg.__dict__ for stationBoardLeg in client.departures(**request_specifications)))\\\n",
    "        .astype({'id': 'string', 'name' : 'string', 'station' : 'string',  'direction' : 'string', 'platform' : 'string'})\\\n",
    "        .set_index('id') # to set this column as index is important for the update function: it needs it to identify which column of the old data frame needs to be updated with which the new one\n"
   ]
  },
  {
   "cell_type": "code",
   "execution_count": 4,
   "id": "9ed13e2b",
   "metadata": {},
   "outputs": [],
   "source": [
    "products = {\n",
    "        'long_distance_express': True, # ICE/ECE\n",
    "        'long_distance': True, # IC/EC\n",
    "        'regional_express': True, #RE/IRE\n",
    "        'regional': True, # RB\n",
    "        'suburban': True, # S\n",
    "        'bus': False, \n",
    "        'ferry': False,\n",
    "        'subway': False, # U\n",
    "        'tram': False, # STR/T\n",
    "        'taxi': False\n",
    "    }\n",
    "\n",
    "number_of_requests = 20\n",
    "wait_time_in_s = 600   # wait this time betwen two requests # 600s = 10 min\n",
    "start_time = datetime.fromisoformat('2024-10-23 00:00') # each data request will request the data of one day starting at this time/date"
   ]
  },
  {
   "cell_type": "code",
   "execution_count": 5,
   "id": "08295891",
   "metadata": {},
   "outputs": [],
   "source": [
    "client = HafasClient(DBProfile())\n",
    "\n",
    "# after each request updated_data will get updated with the new data of the request\n",
    "updated_data = request_data(start_time, products)\n",
    "\n",
    "for request_no in range(number_of_requests): # one safety intervall period to be extra sure to finish before midnight in addition int(...) rounds off\n",
    "        #request:\n",
    "        request_time =  datetime.now()\n",
    "        new_data = request_data(request_time, products)\n",
    "        #save request (backup):\n",
    "        new_data.to_feather(f\"request_{request_no}.feather\", compression_level=6)\n",
    "        #update dataframe:\n",
    "        updated_data.update(new_data)\n",
    "        #wait beforer doing the next request\n",
    "        sleep(wait_time_in_s) \n",
    "\n",
    "#save final results       \n",
    "updated_data.to_feather(f\"result.feather\", compression_level=6)\n",
    "updated_data.to_csv(f\"result.csv\")"
   ]
  },
  {
   "cell_type": "markdown",
   "id": "ef383391",
   "metadata": {},
   "source": [
    "\n",
    "Every request result is saved in Feather format:\n",
    "\n",
    "- The read and write speeds of Feather files are faster than those of CSV files.\n",
    "- Feather files take up less disk space and can be additionally compressed during creation.\n",
    "- Feather files are binary files and can be easily read and written with pandas (but are not human-readable).\n",
    "\n",
    "The outcome of each request is saved (backup)\n",
    "\n",
    "The final result is a dataframe containing the most recent information for each train/ trip, saved both in feather and csv format.\n"
   ]
  },
  {
   "cell_type": "markdown",
   "id": "2f798ba7",
   "metadata": {},
   "source": [
    "## additional features of the current (extended) program\n",
    "\n",
    "The features of the current program (code can be found in the project folder) include:\n",
    "- It creates a new folder for each date the program runs. This folder contains both a Feather and CSV file with the day's results (once the day is completed), as well as another folder for backups (supplemented after each request).\n",
    "- The time taken for each data request is measured and subtracted from the waiting interval.\n",
    "- The request backups (saved in each loop) include all products. For the resulting updated file, these are filtered for trains (criterion: has a numeric platform number)."
   ]
  },
  {
   "cell_type": "code",
   "execution_count": null,
   "id": "977ecec6",
   "metadata": {},
   "outputs": [],
   "source": []
  }
 ],
 "metadata": {
  "kernelspec": {
   "display_name": "Python 3 (ipykernel)",
   "language": "python",
   "name": "python3"
  },
  "language_info": {
   "codemirror_mode": {
    "name": "ipython",
    "version": 3
   },
   "file_extension": ".py",
   "mimetype": "text/x-python",
   "name": "python",
   "nbconvert_exporter": "python",
   "pygments_lexer": "ipython3",
   "version": "3.12.7"
  }
 },
 "nbformat": 4,
 "nbformat_minor": 5
}
