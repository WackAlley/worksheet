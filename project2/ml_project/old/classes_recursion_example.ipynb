{
 "cells": [
  {
   "cell_type": "code",
   "execution_count": 7,
   "id": "9097c78e",
   "metadata": {},
   "outputs": [],
   "source": [
    "from icecream import ic"
   ]
  },
  {
   "cell_type": "code",
   "execution_count": 8,
   "id": "d44981cc",
   "metadata": {},
   "outputs": [
    {
     "name": "stdout",
     "output_type": "stream",
     "text": [
      "Peter\n",
      "Hello. Whats up?\n",
      "I am Peter.\n",
      "I am Caroline.\n"
     ]
    }
   ],
   "source": [
    "class Human:\n",
    "    def __init__(self, name):\n",
    "        self.name = name\n",
    "    #name = \"Peter\"\n",
    "    def greet(self):\n",
    "        print(\"Hello. Whats up?\")\n",
    "    def introduce(self):\n",
    "        print(f\"I am {self.name}.\")\n",
    "        \n",
    "peter = Human(\"Peter\")\n",
    "print(peter.name)\n",
    "peter.greet()\n",
    "peter.introduce()\n",
    "\n",
    "caroline = Human(\"Caroline\")\n",
    "caroline.introduce()"
   ]
  },
  {
   "cell_type": "code",
   "execution_count": 11,
   "id": "8fee5801",
   "metadata": {},
   "outputs": [
    {
     "name": "stderr",
     "output_type": "stream",
     "text": [
      "ic| faculty_iterative(3): 6\n"
     ]
    },
    {
     "name": "stdout",
     "output_type": "stream",
     "text": [
      "0\n",
      "1\n",
      "2\n"
     ]
    }
   ],
   "source": [
    "# 3! =1 * 2 * 3\n",
    "def faculty(x):\n",
    "    if x < 0:\n",
    "        print(\"YOUR INPUT IS SMALLER THAN 0!!!\")\n",
    "    return 1 if x<=1 else x*faculty(x-1)\n",
    "\n",
    "def faculty_iterative(x):\n",
    "    result = 1\n",
    "    for i in range(x):\n",
    "        result = result * (i+1)\n",
    "    return result\n",
    "        \n",
    "\n",
    "ic(faculty(3))\n",
    "ic(faculty_iterative(3))\n",
    "\n",
    "\n",
    "for i in range(3):\n",
    "    print(i)"
   ]
  },
  {
   "cell_type": "code",
   "execution_count": null,
   "id": "eb554ec7",
   "metadata": {},
   "outputs": [],
   "source": []
  }
 ],
 "metadata": {
  "kernelspec": {
   "display_name": "main_kernel",
   "language": "python",
   "name": "main_kernel"
  },
  "language_info": {
   "codemirror_mode": {
    "name": "ipython",
    "version": 3
   },
   "file_extension": ".py",
   "mimetype": "text/x-python",
   "name": "python",
   "nbconvert_exporter": "python",
   "pygments_lexer": "ipython3",
   "version": "3.12.3"
  }
 },
 "nbformat": 4,
 "nbformat_minor": 5
}
