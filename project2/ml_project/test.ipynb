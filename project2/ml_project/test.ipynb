{
 "cells": [
  {
   "cell_type": "code",
   "execution_count": 1,
   "id": "82dbbc22",
   "metadata": {},
   "outputs": [],
   "source": [
    "import os\n",
    "\n",
    "# Das aktuelle Arbeitsverzeichnis muss das sein, indem sich die Module befinden\n",
    "# Das ist dormalerweise der Fall, wenn das notebook direkt aus dem Ordner geöffnet wird\n",
    "# print(f\"Das aktuelle Arbeitsverzeichnis {os.getcwd()}\")\n",
    "# sonst: gib den Ordner indem indem die module gespeichert sind an, relativ zum aktuellen Arbeitsverzeichnis:\n",
    "# os.chdir(\"pfad/zum/neuen/Verzeichnis\")\n",
    "\n",
    "from icecream import ic\n",
    "import numpy as np\n",
    "\n",
    "import graphviz\n",
    "from print_graph import print_graph\n",
    "\n",
    "from forward_backward_functions_and_nodes import *\n"
   ]
  },
  {
   "cell_type": "code",
   "execution_count": 2,
   "id": "159df761",
   "metadata": {},
   "outputs": [
    {
     "name": "stderr",
     "output_type": "stream",
     "text": [
      "ic| sin: <forward_backward_functions_and_nodes.Sin object at 0x72fa70f2c6e0>\n",
      "    sin.forward_func: <ufunc 'sin'>\n",
      "    sin.backward_func: <ufunc 'cos'>\n",
      "ic| f1: <ufunc 'sin'>, f2: <ufunc 'cos'>\n",
      "ic| Multiply().forward_func: <ufunc 'multiply'>\n",
      "ic| Multiply(allow_arbitrary_many=True).forward_func: <bound method Multiply.<lambda> of <forward_backward_functions_and_nodes.Multiply object at 0x72fa701c2ab0>>\n",
      "ic| Multiply(allow_arbitrary_many=False).forward_func: <ufunc 'multiply'>\n"
     ]
    },
    {
     "data": {
      "text/plain": [
       "<ufunc 'multiply'>"
      ]
     },
     "execution_count": 2,
     "metadata": {},
     "output_type": "execute_result"
    }
   ],
   "source": [
    "sin = Sin()\n",
    "ic(sin, sin.forward_func, sin.backward_func)\n",
    "f1, f2 = sin.get_functions()\n",
    "ic(f1, f2)\n",
    "\n",
    "ic(Multiply().forward_func)\n",
    "ic(Multiply(allow_arbitrary_many=True).forward_func)\n",
    "ic(Multiply(allow_arbitrary_many=False).forward_func)\n"
   ]
  },
  {
   "cell_type": "code",
   "execution_count": 3,
   "id": "49a92cc7",
   "metadata": {},
   "outputs": [
    {
     "data": {
      "text/plain": [
       "'\\n    multiply\\n    |      |\\n   cos    sin\\n   |       |\\n  a=0.345 add\\n          | |\\n    b=0.345 tanh\\n             |\\n         c=0.345\\n'"
      ]
     },
     "execution_count": 3,
     "metadata": {},
     "output_type": "execute_result"
    }
   ],
   "source": [
    "x = Expr_end_node(np.float64(0.345))\n",
    "sin = Sin()\n",
    "example_expr1 = sin( sin( sin( x ) )) \n",
    "\n",
    "#sin(sin(sin(x)))\n",
    "\"\"\"\n",
    "sin\n",
    " |\n",
    "sin\n",
    " |\n",
    "sin\n",
    " |\n",
    " x=0.345\n",
    "\"\"\"\n",
    "\n",
    "\n",
    "#cos(a)*sin(b + tanh(c))\n",
    "example_expr2 = Expr_node(Multiply(), \n",
    "                          [Expr_node(Cos(),\n",
    "                                     [Expr_end_node(np.float64(0.345))]\n",
    "                                    ), \n",
    "                           Expr_node(Sin(),\n",
    "                                     [Expr_node(Add(), \n",
    "                                                [Expr_end_node(np.float64(0.345)),\n",
    "                                                 Expr_node(Tanh(), \n",
    "                                                           [Expr_end_node(np.float64(0.345))]\n",
    "                                                          )\n",
    "                                                ]\n",
    "                                               )\n",
    "                                     ]\n",
    "                                    )\n",
    "                          ]\n",
    "                         )\n",
    "\n",
    "# the same using the __call__ method of function (see above in function definition):\n",
    "example_expr3 = Multiply()(\n",
    "                        Cos()(\n",
    "                            Expr_end_node(np.float64(0.345))\n",
    "                        ),\n",
    "                        Sin()(\n",
    "                            Add()(\n",
    "                                Expr_end_node(np.float64(0.345)),\n",
    "                                Tanh()(\n",
    "                                    Expr_end_node(np.float64(0.345))\n",
    "                                )\n",
    "                            )\n",
    "                        )\n",
    "                )\n",
    "\"\"\"\n",
    "    multiply\n",
    "    |      |\n",
    "   cos    sin\n",
    "   |       |\n",
    "  a=0.345 add\n",
    "          | |\n",
    "    b=0.345 tanh\n",
    "             |\n",
    "         c=0.345\n",
    "\"\"\"\n",
    "\n"
   ]
  },
  {
   "cell_type": "code",
   "execution_count": 46,
   "id": "705ef113",
   "metadata": {},
   "outputs": [
    {
     "data": {
      "text/plain": [
       "'graph_out/tt/graph1.gv.pdf'"
      ]
     },
     "execution_count": 46,
     "metadata": {},
     "output_type": "execute_result"
    }
   ],
   "source": [
    "\n",
    "graph1 = graphviz.Digraph('graph1', comment='test') \n",
    "graph1.attr(rankdir=\"LR\")\n",
    "print_graph(example_expr1, graph1)\n",
    "#doctest_mark_exe() \n",
    "graph1.render(directory='graph_out/tt', view=True)\n",
    "\n"
   ]
  },
  {
   "cell_type": "code",
   "execution_count": 44,
   "id": "328f725f",
   "metadata": {},
   "outputs": [
    {
     "data": {
      "text/plain": [
       "'graph_out/tt/graph2.gv.pdf'"
      ]
     },
     "execution_count": 44,
     "metadata": {},
     "output_type": "execute_result"
    }
   ],
   "source": [
    "graph2 = graphviz.Digraph('graph2', comment='test') \n",
    "graph2.attr(rankdir=\"TD\")\n",
    "print_graph(example_expr2, graph2)\n",
    "#doctest_mark_exe() \n",
    "graph2.render(directory='graph_out/tt', view=True)"
   ]
  },
  {
   "cell_type": "code",
   "execution_count": 45,
   "id": "eaa4b157",
   "metadata": {},
   "outputs": [
    {
     "data": {
      "text/plain": [
       "'graph_out/tt/graph3.gv.pdf'"
      ]
     },
     "execution_count": 45,
     "metadata": {},
     "output_type": "execute_result"
    }
   ],
   "source": [
    "graph3 = graphviz.Digraph('graph3', comment='test') \n",
    "graph3.attr(rankdir=\"LR\")\n",
    "print_graph(example_expr3, graph3)\n",
    "#doctest_mark_exe() \n",
    "graph3.render(directory='graph_out/tt', view=True)"
   ]
  },
  {
   "cell_type": "code",
   "execution_count": 38,
   "id": "963b006d",
   "metadata": {},
   "outputs": [],
   "source": [
    "#f(g(h(x)))' = f'(g(h(x))) * (g(h(x)))' =  f'(g(h(x))) * g'(h(x)) * h'(x)\n",
    "# h'(x) * g'(h(x)) * f'(g(h(x)))\n",
    "\n",
    "def forward(node):\n",
    "    return node.forward_func(*(forward(child) for child in node.childs)) if type(node) is not Expr_end_node else node.value \n",
    "\"\"\"\n",
    "def forward(node):\n",
    "    if type(node) is not Expr_end_node:\n",
    "    \n",
    "        node.forward_func(*(forward(child) for child in node.childs))\n",
    "    else:\n",
    "        node.value \n",
    "\"\"\"\n",
    "\n",
    "def backward(node, value = np.float64(1)):\n",
    "    if type(node) is not Expr_end_node:\n",
    "        child_values = [forward(child) for child in node.childs]\n",
    "        if len(node.childs) == 1:\n",
    "            new_value = node.backward_func(*child_values)\n",
    "            if value.ndim == 0 or new_value.ndim == 0:\n",
    "                backward(node.childs[0], value * new_value)\n",
    "            else:\n",
    "                backward(node.childs[0], value @ new_value) # @ is matrix product\n",
    "            \n",
    "        else:\n",
    "            for child, new_value in zip(node.childs, node.backward_func(*child_values), strict=True):\n",
    "                if value.ndim == 0 or new_value.ndim == 0:\n",
    "                    backward(child, value * new_value)\n",
    "                else:\n",
    "                    backward(child, value @ new_value) # @ is matrix product\n",
    "                    \n",
    "    else: \n",
    "        node.grad_value += value\n",
    "        "
   ]
  },
  {
   "cell_type": "code",
   "execution_count": 41,
   "id": "1d8027e0",
   "metadata": {},
   "outputs": [
    {
     "name": "stderr",
     "output_type": "stream",
     "text": [
      "ic| forward(ex1): np.float64(0.32573257710464837)\n",
      "ic| np.sin(np.sin(np.sin(np.float64(.345)))): np.float64(0.32573257710464837)\n",
      "ic| x.grad_value: np.float64(0.8393506506551831)\n",
      "ic| np.cos(np.sin(np.sin(.345)))*np.cos(np.sin(.345))*np.cos(0.345): np.float64(0.8393506506551831)\n"
     ]
    },
    {
     "name": "stdout",
     "output_type": "stream",
     "text": [
      "0.8393506506551831\n"
     ]
    }
   ],
   "source": [
    "ex1 = example_expr1\n",
    "forward(ex1)\n",
    "\n",
    "x.grad_value=0\n",
    "\n",
    "ic(forward(ex1))\n",
    "ic(np.sin(np.sin(np.sin(np.float64(.345)))))\n",
    "\n",
    "backward(ex1)\n",
    "ic(x.grad_value)\n",
    "ic(np.cos(np.sin(np.sin(.345)))*np.cos(np.sin(.345))*np.cos(0.345))\n",
    "print(x.grad_value)"
   ]
  },
  {
   "cell_type": "code",
   "execution_count": 42,
   "id": "c6a1f3b0",
   "metadata": {},
   "outputs": [
    {
     "name": "stderr",
     "output_type": "stream",
     "text": [
      "ic| forward(a): array([0.51682058])\n",
      "ic| mat1.value: array([[0.9004706 , 0.11569409],\n",
      "                       [0.87386324, 0.08213585],\n",
      "                       [0.78566756, 0.19352601]])\n",
      "    mat1.grad_value: array([[[0.2046392 , 0.42078148]],\n",
      "                     \n",
      "                            [[0.03443949, 0.07081488]],\n",
      "                     \n",
      "                            [[0.20949277, 0.43076146]]])\n",
      "ic| mat2.value: array([[0.72342617, 0.12174808, 0.74058418]])\n",
      "    mat2.grad_value: array([[[0.32201422, 0.29496848, 0.33481031]]])\n",
      "ic| vec.value: array([0.28287503, 0.5816509 ])\n",
      "    vec.grad_value: array([[1.33966813, 0.23701832]])\n"
     ]
    },
    {
     "data": {
      "text/plain": [
       "(array([0.28287503, 0.5816509 ]), array([[1.33966813, 0.23701832]]))"
      ]
     },
     "execution_count": 42,
     "metadata": {},
     "output_type": "execute_result"
    }
   ],
   "source": [
    "m_product = Matrix_vector_product()\n",
    "mat1 = Expr_end_node(np.random.rand(3,2))\n",
    "mat2 = Expr_end_node(np.random.rand(1,3))\n",
    "vec = Expr_end_node(np.random.rand(2))\n",
    "a = m_product(mat2, m_product(mat1, vec))\n",
    "ic(forward(a))\n",
    "backward(a)\n",
    "ic(mat1.value, mat1.grad_value)\n",
    "ic(mat2.value, mat2.grad_value)\n",
    "ic(vec.value, vec.grad_value)"
   ]
  },
  {
   "cell_type": "code",
   "execution_count": null,
   "id": "b6bce7a3",
   "metadata": {},
   "outputs": [],
   "source": []
  }
 ],
 "metadata": {
  "kernelspec": {
   "display_name": "main_kernel",
   "language": "python",
   "name": "main_kernel"
  },
  "language_info": {
   "codemirror_mode": {
    "name": "ipython",
    "version": 3
   },
   "file_extension": ".py",
   "mimetype": "text/x-python",
   "name": "python",
   "nbconvert_exporter": "python",
   "pygments_lexer": "ipython3",
   "version": "3.12.3"
  }
 },
 "nbformat": 4,
 "nbformat_minor": 5
}
