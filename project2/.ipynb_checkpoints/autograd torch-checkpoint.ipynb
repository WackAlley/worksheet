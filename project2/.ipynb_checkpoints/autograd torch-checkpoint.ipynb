{
 "cells": [
  {
   "cell_type": "code",
   "execution_count": 5,
   "id": "ab57137e-408d-43e1-b821-cdaf8ef592af",
   "metadata": {},
   "outputs": [
    {
     "name": "stdout",
     "output_type": "stream",
     "text": [
      " PyTorch : x1.grad = tensor([0.9093]), x2.grad = tensor([0.1662])\n",
      " Calculus : dz/dx1 = 0.9093, dz/dx2 = 0.1662\n"
     ]
    }
   ],
   "source": [
    "import torch\n",
    "import numpy as np\n",
    "\n",
    "x1_val , x2_val = 1., 2.\n",
    "x1 = torch . tensor ([ x1_val ], requires_grad =True)\n",
    "x2 = torch . tensor ([ x2_val ], requires_grad =True)\n",
    "a = x1 * x2\n",
    "y1 = torch . log(a)\n",
    "y2 = torch . sin(x2)\n",
    "\n",
    "z = w = y1 * y2\n",
    "\n",
    "# Initialize backpropagation\n",
    "z. backward ()\n",
    "\n",
    "# Computation using calculus\n",
    "dzdx1 = lambda x1 , x2: np.sin(x2)/x1\n",
    "dzdx2 = lambda x1 , x2: np.cos(x2) * np.log(x1*x2) + np.sin(x2)/x2\n",
    "\n",
    "print (f\" PyTorch : x1.grad = {x1.grad}, x2.grad = {x2.grad}\")\n",
    "print (f\" Calculus : dz/dx1 = {dzdx1 (x1_val , x2_val ):.4f}, dz/dx2 = { dzdx2 (x1_val , x2_val ):.4f}\")"
   ]
  }
 ],
 "metadata": {
  "kernelspec": {
   "display_name": "Python 3 (ipykernel)",
   "language": "python",
   "name": "python3"
  },
  "language_info": {
   "codemirror_mode": {
    "name": "ipython",
    "version": 3
   },
   "file_extension": ".py",
   "mimetype": "text/x-python",
   "name": "python",
   "nbconvert_exporter": "python",
   "pygments_lexer": "ipython3",
   "version": "3.13.0"
  }
 },
 "nbformat": 4,
 "nbformat_minor": 5
}
