{
 "cells": [
  {
   "cell_type": "code",
   "execution_count": 1,
   "id": "647ad4fd-23aa-40f1-b515-51c9c68acead",
   "metadata": {},
   "outputs": [],
   "source": [
    "import numpy as np\n",
    "import random"
   ]
  },
  {
   "cell_type": "code",
   "execution_count": 60,
   "id": "e5642ce6-d468-4c8d-8e87-837f4aa7eed3",
   "metadata": {},
   "outputs": [
    {
     "name": "stdout",
     "output_type": "stream",
     "text": [
      "[[0.19591732 0.7614969  0.27040998 0.51141374]\n",
      " [0.41043887 0.31385362 0.56901488 0.72533251]\n",
      " [0.64759512 0.52224548 0.35826636 0.12203733]\n",
      " [0.60160401 0.4646149  0.68779426 0.75190026]] [1 2 3 4]\n",
      "<class 'numpy.ndarray'> <class 'numpy.ndarray'> <class 'numpy.ndarray'>\n",
      "[4.57579603 5.64652077 3.25503447 6.60181762]\n",
      "[[ 0  1  2  3]\n",
      " [ 4  5  6  7]\n",
      " [ 8  9 10 11]\n",
      " [12 13 14 15]] [1 2 3 4]\n",
      "[ 20  60 100 140]\n"
     ]
    }
   ],
   "source": [
    "def forwards(x,a):\n",
    "    y = np.tanh((w @ x) - b) # forward vector\n",
    "\n",
    "\n",
    "# loss function\n",
    "def loss(y_pred,y):\n",
    "    return np.square(y_pred - y).sum()\n",
    "\n",
    "# gradient of the loss function\n",
    "def gradient(y_pred,y):\n",
    "    return 2 * (y_pred - y)\n",
    "\n",
    "\n",
    "def gradients(x,y):\n",
    "    nablaw = [np.zeros(x.shape) for x in w]\n",
    "    inputv = x\n",
    "    return w - eta * nw \n",
    "'''\n",
    "def sigmoidal(x):\n",
    "    return 1/(1+np.exp(-x))\n",
    "'''\n",
    "\n",
    "\n",
    "# vector / matrix template size\n",
    "mat = [4,4]\n",
    "eta = 1e-3 # learning rate\n",
    "\n",
    "# w = [np.random.randn(x,y) for y,x in zip(mat[1:], mat[:1])] # creates a weight matrix\n",
    "w = np.random.rand(4,4)\n",
    "b = np.random.randn(4) # bias / threshold vector\n",
    "\n",
    "x = np.array([1,2,3,4]) # input vector\n",
    "\n",
    "w2 = np.arange(16).reshape(4,4) \n",
    "\n",
    "print(w,x)\n",
    "print(type(w), type(b), type(x))\n",
    "print(w @ x) # @ = np.matmul(w,x)\n",
    "print(w2, x)\n",
    "print(w2 @ x)\n",
    "\n",
    "# [6.03303574 4.60467303 4.25774192 3.78438018]\n",
    "a = 0.12834535 + 2 *0.8752226 + 3 * 0.29858739 + 4 * 0.81462076\n",
    "\n"
   ]
  },
  {
   "cell_type": "code",
   "execution_count": null,
   "id": "4b970417-36a5-4f61-acec-8a2d2d22b3bc",
   "metadata": {},
   "outputs": [],
   "source": []
  }
 ],
 "metadata": {
  "kernelspec": {
   "display_name": "Python 3 (ipykernel)",
   "language": "python",
   "name": "python3"
  },
  "language_info": {
   "codemirror_mode": {
    "name": "ipython",
    "version": 3
   },
   "file_extension": ".py",
   "mimetype": "text/x-python",
   "name": "python",
   "nbconvert_exporter": "python",
   "pygments_lexer": "ipython3",
   "version": "3.13.0"
  }
 },
 "nbformat": 4,
 "nbformat_minor": 5
}
