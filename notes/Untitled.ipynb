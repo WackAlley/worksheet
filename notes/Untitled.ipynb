{
 "cells": [
  {
   "cell_type": "code",
   "execution_count": 102,
   "id": "94f2ac85-dab2-43f0-ad89-40d8c2b0d32c",
   "metadata": {},
   "outputs": [],
   "source": [
    "import torch\n",
    "import torch.nn.functional as F\n",
    "from icecream import ic"
   ]
  },
  {
   "cell_type": "code",
   "execution_count": 103,
   "id": "3df7fb6c-b0d4-4a75-b8b8-c8196d7d8b7a",
   "metadata": {},
   "outputs": [
    {
     "name": "stderr",
     "output_type": "stream",
     "text": [
      "ic| input_tensor: tensor([[[1, 0, 0, 0],\n",
      "                           [0, 1, 0, 0],\n",
      "                           [0, 0, 0, 1]],\n",
      "                  \n",
      "                          [[0, 1, 0, 0],\n",
      "                           [0, 0, 1, 0],\n",
      "                           [0, 0, 0, 1]]])\n",
      "ic| batch: 2\n",
      "ic| seq_len: 3\n",
      "ic| embed_len: 4\n"
     ]
    }
   ],
   "source": [
    "input_tensor = F.one_hot(torch.tensor([[0,1,3],[1,2,3]]))\n",
    "\n",
    "ic(input_tensor)\n",
    "batch = input_tensor.size(0)\n",
    "ic(batch)\n",
    "seq_len = input_tensor.size(1)\n",
    "ic(seq_len)\n",
    "embed_len = input_tensor.size(2)\n",
    "ic(embed_len)\n",
    "input_tensor = input_tensor[0:batch,1:seq_len,0:embed_len]\n",
    "input_tensor = input_tensor.repeat(2,1, 1)"
   ]
  },
  {
   "cell_type": "code",
   "execution_count": 107,
   "id": "66b2fd5a-5d90-481c-a796-2f689848c8ff",
   "metadata": {},
   "outputs": [
    {
     "name": "stderr",
     "output_type": "stream",
     "text": [
      "ic| append.size(): torch.Size([2, 2, 4])\n",
      "ic| input_tensor.size(): torch.Size([4, 2, 4])\n",
      "ic| append.size(): torch.Size([4, 1, 4])\n",
      "ic| torch.cat((input_tensor, append),1): tensor([[[0, 1, 0, 0],\n",
      "                                                  [0, 0, 0, 1],\n",
      "                                                  [0, 0, 0, 1]],\n",
      "                                         \n",
      "                                                 [[0, 0, 1, 0],\n",
      "                                                  [0, 0, 0, 1],\n",
      "                                                  [0, 0, 0, 1]],\n",
      "                                         \n",
      "                                                 [[0, 1, 0, 0],\n",
      "                                                  [0, 0, 0, 1],\n",
      "                                                  [1, 0, 0, 0]],\n",
      "                                         \n",
      "                                                 [[0, 0, 1, 0],\n",
      "                                                  [0, 0, 0, 1],\n",
      "                                                  [1, 0, 0, 0]]])\n"
     ]
    },
    {
     "data": {
      "text/plain": [
       "tensor([[[0, 1, 0, 0],\n",
       "         [0, 0, 0, 1],\n",
       "         [0, 0, 0, 1]],\n",
       "\n",
       "        [[0, 0, 1, 0],\n",
       "         [0, 0, 0, 1],\n",
       "         [0, 0, 0, 1]],\n",
       "\n",
       "        [[0, 1, 0, 0],\n",
       "         [0, 0, 0, 1],\n",
       "         [1, 0, 0, 0]],\n",
       "\n",
       "        [[0, 0, 1, 0],\n",
       "         [0, 0, 0, 1],\n",
       "         [1, 0, 0, 0]]])"
      ]
     },
     "execution_count": 107,
     "metadata": {},
     "output_type": "execute_result"
    }
   ],
   "source": [
    "append = F.one_hot(torch.tensor([[3],[0]]))\n",
    "append = append.repeat(1,2,1)\n",
    "ic(append.size())\n",
    "append =  append.reshape(4,1,4)\n",
    "\n",
    "\n",
    "ic(input_tensor.size())\n",
    "ic(append.size())\n",
    "\n",
    "ic(torch.cat((input_tensor, append),1))"
   ]
  }
 ],
 "metadata": {
  "kernelspec": {
   "display_name": "Python 3 (ipykernel)",
   "language": "python",
   "name": "python3"
  },
  "language_info": {
   "codemirror_mode": {
    "name": "ipython",
    "version": 3
   },
   "file_extension": ".py",
   "mimetype": "text/x-python",
   "name": "python",
   "nbconvert_exporter": "python",
   "pygments_lexer": "ipython3",
   "version": "3.13.1"
  }
 },
 "nbformat": 4,
 "nbformat_minor": 5
}
