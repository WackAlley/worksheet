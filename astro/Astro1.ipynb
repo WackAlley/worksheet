{
 "cells": [
  {
   "cell_type": "code",
   "execution_count": 3,
   "id": "00d8e108-5271-4495-8306-58330dee5f44",
   "metadata": {},
   "outputs": [],
   "source": [
    "# https://docs.astropy.org/en/stable/coordinates/index.html\n",
    "# https://docs.astropy.org/en/stable/coordinates/transforming.html"
   ]
  },
  {
   "cell_type": "code",
   "execution_count": 4,
   "id": "d1c25ea3-8fc8-4706-91c4-6da24c08cbf1",
   "metadata": {},
   "outputs": [],
   "source": [
    "from astropy import units as u\n",
    "from astropy.coordinates import SkyCoord\n",
    "import numpy as np"
   ]
  },
  {
   "cell_type": "code",
   "execution_count": 5,
   "id": "398c89c0-f842-4301-8681-2b4b1ad3ebd1",
   "metadata": {},
   "outputs": [],
   "source": [
    "# Position in equatorial\n",
    "# siriusA = SkyCoord('15h08m55.27s', '-08d53m24.99s', frame='icrs')\n",
    "siriusA_eq = SkyCoord(ra='06:45:08.917', dec='-16:42:58.02', unit=(u.hourangle, u.deg), frame='icrs')\n",
    "objectlist = [siriusA_eq]"
   ]
  },
  {
   "cell_type": "code",
   "execution_count": 12,
   "id": "10bea3d0-2772-4762-8a9f-99181450dac2",
   "metadata": {},
   "outputs": [
    {
     "name": "stdout",
     "output_type": "stream",
     "text": [
      "entry 1\n",
      "06h45m08.917s -16d42m58.02s\n",
      "<SkyCoord (Galactic): (l, b) in deg\n",
      "    (227.2302915, -8.89028256)>\n",
      "15h08m55.26996067s -08d53m25.01722585s\n",
      "\n",
      "\n"
     ]
    }
   ],
   "source": [
    "# Dezimale und HHMMSS/Degree Position in galactic\n",
    "k = 0\n",
    "for i in objectlist:\n",
    "    k += 1\n",
    "    print('entry', k)\n",
    "    print(i.to_string('hmsdms')) # Angabe alpha / delta in HHMMSS / deg\n",
    "    print(i.galactic)\n",
    "    print(i.galactic.to_string('hmsdms'))\n",
    "    print(\"\\n\")"
   ]
  }
 ],
 "metadata": {
  "kernelspec": {
   "display_name": "Python 3 (ipykernel)",
   "language": "python",
   "name": "python3"
  },
  "language_info": {
   "codemirror_mode": {
    "name": "ipython",
    "version": 3
   },
   "file_extension": ".py",
   "mimetype": "text/x-python",
   "name": "python",
   "nbconvert_exporter": "python",
   "pygments_lexer": "ipython3",
   "version": "3.13.3"
  }
 },
 "nbformat": 4,
 "nbformat_minor": 5
}
