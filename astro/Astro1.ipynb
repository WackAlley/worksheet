{
 "cells": [
  {
   "cell_type": "code",
   "execution_count": 1,
   "id": "d1c25ea3-8fc8-4706-91c4-6da24c08cbf1",
   "metadata": {},
   "outputs": [],
   "source": [
    "from astropy import units as u\n",
    "from astropy.coordinates import SkyCoord\n",
    "import numpy as np\n",
    "import pandas as pd\n",
    "from icecream import ic"
   ]
  },
  {
   "cell_type": "markdown",
   "id": "aa50937e-2a49-488e-a4f2-40547abbc346",
   "metadata": {},
   "source": [
    "## Exercise 4"
   ]
  },
  {
   "cell_type": "code",
   "execution_count": 2,
   "id": "e7f8ea13-46a4-4a29-9989-c58fe9e70057",
   "metadata": {},
   "outputs": [
    {
     "name": "stderr",
     "output_type": "stream",
     "text": [
      "ic| 8.14e16: 8.14e+16\n",
      "    8.14e16 * 1e-3: 81400000000000.0\n",
      "    8.14e16 / 1.49598e11: 544124.9214561692\n",
      "ic| 8.14e16 / 1.49598e11 / 1e5: 5.441249214561692\n"
     ]
    },
    {
     "data": {
      "text/plain": [
       "5.441249214561692"
      ]
     },
     "execution_count": 2,
     "metadata": {},
     "output_type": "execute_result"
    }
   ],
   "source": [
    "# Exercise 4 i\n",
    "ic(8.14e16, 8.14e16 * 1e-3, 8.14e16 / 1.49598e11)\n",
    "ic(8.14e16 / 1.49598e11 / 1e5)"
   ]
  },
  {
   "cell_type": "code",
   "execution_count": 3,
   "id": "fe083149-f5c4-4d4a-b0c8-6cfdff12ceac",
   "metadata": {},
   "outputs": [],
   "source": [
    "# https://docs.astropy.org/en/stable/coordinates/index.html\n",
    "# https://docs.astropy.org/en/stable/coordinates/transforming.html"
   ]
  },
  {
   "cell_type": "code",
   "execution_count": null,
   "id": "9c5b9a8b-e88c-4b6b-87ed-4f74e39f9548",
   "metadata": {},
   "outputs": [],
   "source": []
  },
  {
   "cell_type": "code",
   "execution_count": null,
   "id": "707369c2-e641-4acf-bf4f-feb0ea89f8e6",
   "metadata": {},
   "outputs": [],
   "source": []
  },
  {
   "cell_type": "code",
   "execution_count": 4,
   "id": "398c89c0-f842-4301-8681-2b4b1ad3ebd1",
   "metadata": {},
   "outputs": [
    {
     "name": "stdout",
     "output_type": "stream",
     "text": [
      "{'siriusA': <SkyCoord (ICRS): (ra, dec) in deg\n",
      "    (101.28715417, -16.71611667)>, 'electra': <SkyCoord (ICRS): (ra, dec) in deg\n",
      "    (56.2189, 24.11355583)>, 'crab': <SkyCoord (ICRS): (ra, dec) in deg\n",
      "    (83.63333333, 22.01444444)>, 'sagittariusA': <SkyCoord (ICRS): (ra, dec) in deg\n",
      "    (266.41666667, -29.00783333)>, 'andromeda': <SkyCoord (ICRS): (ra, dec) in deg\n",
      "    (10.68458333, 41.26916667)>, 'ngs253': <SkyCoord (ICRS): (ra, dec) in deg\n",
      "    (11.888, -25.28821944)>, 'messier87': <SkyCoord (ICRS): (ra, dec) in deg\n",
      "    (187.70583333, 12.39111111)>}\n"
     ]
    }
   ],
   "source": [
    "# Position in equatorial\n",
    "objectdict = {}\n",
    "def skycoordlist(entryname, rectastring,declinastring):\n",
    "    entry = SkyCoord(ra=rectastring, dec=declinastring, unit=(u.hourangle, u.deg,), frame='icrs')\n",
    "    objectdict[entryname] = entry\n",
    "\n",
    "\n",
    "skycoordlist('siriusA','06:45:08.917','-16:42:58.02') # https://de.wikipedia.org/wiki/Sirius\n",
    "skycoordlist('electra','03:44:52.536','+24:06:48.801') # https://de.wikipedia.org/wiki/Elektra_(Stern)\n",
    "skycoordlist('crab', '05:34:32.0','+22:00:52') # https://de.wikipedia.org/wiki/Krebsnebel\n",
    "skycoordlist('sagittariusA', '17:45:40.0','-29:00:28.2') # https://de.wikipedia.org/wiki/Sagittarius_A*\n",
    "skycoordlist('andromeda', '00:42:44.3','+41:16:09') # https://de.wikipedia.org/wiki/Andromedagalaxie\n",
    "skycoordlist('ngs253', '00:47:33.12', '-25:17:17.59') # https://de.wikipedia.org/wiki/Sculptor-Galaxie\n",
    "skycoordlist('messier87', '12:30:49.4','+12:23:28')\n",
    "print(objectdict)"
   ]
  },
  {
   "cell_type": "code",
   "execution_count": 5,
   "id": "434a2667-f1f6-4a76-9e66-106fbb0b2f61",
   "metadata": {},
   "outputs": [
    {
     "data": {
      "text/plain": [
       "<SkyCoord (ICRS): (ra, dec) in deg\n",
       "    (101.28715417, -16.71611667)>"
      ]
     },
     "execution_count": 5,
     "metadata": {},
     "output_type": "execute_result"
    }
   ],
   "source": [
    "objectdict['siriusA'].to_string('hmsdms')\n",
    "objectdict['siriusA']"
   ]
  },
  {
   "cell_type": "code",
   "execution_count": 6,
   "id": "e253517d-b38c-4e2b-a435-4281cd7bf58c",
   "metadata": {},
   "outputs": [
    {
     "data": {
      "text/html": [
       "<div>\n",
       "<style scoped>\n",
       "    .dataframe tbody tr th:only-of-type {\n",
       "        vertical-align: middle;\n",
       "    }\n",
       "\n",
       "    .dataframe tbody tr th {\n",
       "        vertical-align: top;\n",
       "    }\n",
       "\n",
       "    .dataframe thead th {\n",
       "        text-align: right;\n",
       "    }\n",
       "</style>\n",
       "<table border=\"1\" class=\"dataframe\">\n",
       "  <thead>\n",
       "    <tr style=\"text-align: right;\">\n",
       "      <th></th>\n",
       "      <th>Name</th>\n",
       "      <th>equatorial hmsdms</th>\n",
       "      <th>l</th>\n",
       "      <th>b</th>\n",
       "      <th>galactic hmsdms</th>\n",
       "    </tr>\n",
       "  </thead>\n",
       "  <tbody>\n",
       "    <tr>\n",
       "      <th>0</th>\n",
       "      <td>siriusA</td>\n",
       "      <td>06h45m08.917s -16d42m58.02s</td>\n",
       "      <td>227.230292</td>\n",
       "      <td>-8.890283</td>\n",
       "      <td>15h08m55.26996067s -08d53m25.01722585s</td>\n",
       "    </tr>\n",
       "    <tr>\n",
       "      <th>1</th>\n",
       "      <td>electra</td>\n",
       "      <td>03h44m52.536s +24d06m48.801s</td>\n",
       "      <td>166.180226</td>\n",
       "      <td>-23.848505</td>\n",
       "      <td>11h04m43.25422246s -23d50m54.61795139s</td>\n",
       "    </tr>\n",
       "    <tr>\n",
       "      <th>2</th>\n",
       "      <td>crab</td>\n",
       "      <td>05h34m32s +22d00m52s</td>\n",
       "      <td>184.557630</td>\n",
       "      <td>-5.784191</td>\n",
       "      <td>12h18m13.83114021s -05d47m03.08643585s</td>\n",
       "    </tr>\n",
       "    <tr>\n",
       "      <th>3</th>\n",
       "      <td>sagittariusA</td>\n",
       "      <td>17h45m40s -29d00m28.2s</td>\n",
       "      <td>359.944160</td>\n",
       "      <td>-0.046052</td>\n",
       "      <td>23h59m46.59845447s -00d02m45.78875566s</td>\n",
       "    </tr>\n",
       "    <tr>\n",
       "      <th>4</th>\n",
       "      <td>andromeda</td>\n",
       "      <td>00h42m44.3s +41d16m09s</td>\n",
       "      <td>121.174244</td>\n",
       "      <td>-21.572889</td>\n",
       "      <td>08h04m41.81864962s -21d34m22.4003804s</td>\n",
       "    </tr>\n",
       "    <tr>\n",
       "      <th>5</th>\n",
       "      <td>ngs253</td>\n",
       "      <td>00h47m33.12s -25d17m17.59s</td>\n",
       "      <td>97.369449</td>\n",
       "      <td>-87.963999</td>\n",
       "      <td>06h29m28.66775887s -87d57m50.39618488s</td>\n",
       "    </tr>\n",
       "    <tr>\n",
       "      <th>6</th>\n",
       "      <td>messier87</td>\n",
       "      <td>12h30m49.4s +12d23m28s</td>\n",
       "      <td>283.777429</td>\n",
       "      <td>74.491114</td>\n",
       "      <td>18h55m06.58294545s +74d29m28.01216988s</td>\n",
       "    </tr>\n",
       "  </tbody>\n",
       "</table>\n",
       "</div>"
      ],
      "text/plain": [
       "           Name             equatorial hmsdms           l          b  \\\n",
       "0       siriusA   06h45m08.917s -16d42m58.02s  227.230292  -8.890283   \n",
       "1       electra  03h44m52.536s +24d06m48.801s  166.180226 -23.848505   \n",
       "2          crab          05h34m32s +22d00m52s  184.557630  -5.784191   \n",
       "3  sagittariusA        17h45m40s -29d00m28.2s  359.944160  -0.046052   \n",
       "4     andromeda        00h42m44.3s +41d16m09s  121.174244 -21.572889   \n",
       "5        ngs253    00h47m33.12s -25d17m17.59s   97.369449 -87.963999   \n",
       "6     messier87        12h30m49.4s +12d23m28s  283.777429  74.491114   \n",
       "\n",
       "                          galactic hmsdms  \n",
       "0  15h08m55.26996067s -08d53m25.01722585s  \n",
       "1  11h04m43.25422246s -23d50m54.61795139s  \n",
       "2  12h18m13.83114021s -05d47m03.08643585s  \n",
       "3  23h59m46.59845447s -00d02m45.78875566s  \n",
       "4   08h04m41.81864962s -21d34m22.4003804s  \n",
       "5  06h29m28.66775887s -87d57m50.39618488s  \n",
       "6  18h55m06.58294545s +74d29m28.01216988s  "
      ]
     },
     "execution_count": 6,
     "metadata": {},
     "output_type": "execute_result"
    }
   ],
   "source": [
    "skyobjects = []\n",
    "\n",
    "for i, (entryname, coordinates) in enumerate(objectdict.items(), start=1):\n",
    "    galactic_coords = coordinates.galactic\n",
    "    skyobjects.append({\n",
    "        \"Name\": entryname,\n",
    "        \"equatorial hmsdms\": coordinates.to_string('hmsdms'),\n",
    "        \"l\": galactic_coords.l.deg,\n",
    "        \"b\": galactic_coords.b.deg,\n",
    "        \"galactic hmsdms\": galactic_coords.to_string('hmsdms')\n",
    "    })\n",
    "\n",
    "pd.DataFrame(skyobjects)"
   ]
  }
 ],
 "metadata": {
  "kernelspec": {
   "display_name": "Python 3 (ipykernel)",
   "language": "python",
   "name": "python3"
  },
  "language_info": {
   "codemirror_mode": {
    "name": "ipython",
    "version": 3
   },
   "file_extension": ".py",
   "mimetype": "text/x-python",
   "name": "python",
   "nbconvert_exporter": "python",
   "pygments_lexer": "ipython3",
   "version": "3.13.3"
  }
 },
 "nbformat": 4,
 "nbformat_minor": 5
}
