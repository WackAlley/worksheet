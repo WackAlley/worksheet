{
 "cells": [
  {
   "cell_type": "code",
   "execution_count": 1,
   "id": "00d8e108-5271-4495-8306-58330dee5f44",
   "metadata": {},
   "outputs": [],
   "source": [
    "# https://docs.astropy.org/en/stable/coordinates/index.html\n",
    "# https://docs.astropy.org/en/stable/coordinates/transforming.html"
   ]
  },
  {
   "cell_type": "code",
   "execution_count": 2,
   "id": "d1c25ea3-8fc8-4706-91c4-6da24c08cbf1",
   "metadata": {},
   "outputs": [],
   "source": [
    "from astropy import units as u\n",
    "from astropy.coordinates import SkyCoord\n",
    "import numpy as np"
   ]
  },
  {
   "cell_type": "code",
   "execution_count": 8,
   "id": "398c89c0-f842-4301-8681-2b4b1ad3ebd1",
   "metadata": {},
   "outputs": [],
   "source": [
    "# Position in equatorial\n",
    "# siriusA = SkyCoord('15h08m55.27s', '-08d53m24.99s', frame='icrs')\n",
    "objectdict = {}\n",
    "def skycoordlist(entryname, rectastring,declinastring):\n",
    "    entry = SkyCoord(ra=rectastring, dec=declinastring, unit=(u.hourangle, u.deg,), frame='icrs')\n",
    "    objectdict[entryname] = entry\n",
    "\n",
    "\n",
    "skycoordlist('siriusA','06:45:08.917','-16:42:58.02') # https://de.wikipedia.org/wiki/Sirius\n",
    "skycoordlist('electra','03:44:52.536','+24:06:48.801') # https://de.wikipedia.org/wiki/Elektra_(Stern)\n",
    "skycoordlist('crab', '05:34:32.0','+22:00:52') # https://de.wikipedia.org/wiki/Krebsnebel\n",
    "skycoordlist('sagittariusA', '17:45:40.0','-29:00:28.2') # https://de.wikipedia.org/wiki/Sagittarius_A*\n",
    "skycoordlist('andromeda', '00:42:44.3','+41:16:09') # https://de.wikipedia.org/wiki/Andromedagalaxie\n",
    "skycoordlist('ngs254', '00:47:27.61', '-31:25:18.3') # https://de.wikipedia.org/wiki/NGC_254\n",
    "skycoordlist('messier87', '12:30:49.4','+12:23:28')"
   ]
  },
  {
   "cell_type": "code",
   "execution_count": 12,
   "id": "10bea3d0-2772-4762-8a9f-99181450dac2",
   "metadata": {},
   "outputs": [
    {
     "name": "stdout",
     "output_type": "stream",
     "text": [
      "entry: 1 siriusA\n",
      "06h45m08.917s -16d42m58.02s\n",
      "<SkyCoord (Galactic): (l, b) in deg\n",
      "    (227.2302915, -8.89028256)>\n",
      "15h08m55.26996067s -08d53m25.01722585s\n",
      "\n",
      "\n",
      "entry: 2 electra\n",
      "03h44m52.536s +24d06m48.801s\n",
      "<SkyCoord (Galactic): (l, b) in deg\n",
      "    (166.18022593, -23.84850499)>\n",
      "11h04m43.25422246s -23d50m54.61795139s\n",
      "\n",
      "\n",
      "entry: 3 crab\n",
      "05h34m32s +22d00m52s\n",
      "<SkyCoord (Galactic): (l, b) in deg\n",
      "    (184.55762975, -5.78419068)>\n",
      "12h18m13.83114021s -05d47m03.08643585s\n",
      "\n",
      "\n",
      "entry: 4 sagittariusA\n",
      "17h45m40s -29d00m28.2s\n",
      "<SkyCoord (Galactic): (l, b) in deg\n",
      "    (359.94416023, -0.04605243)>\n",
      "23h59m46.59845447s -00d02m45.78875566s\n",
      "\n",
      "\n",
      "entry: 5 andromeda\n",
      "00h42m44.3s +41d16m09s\n",
      "<SkyCoord (Galactic): (l, b) in deg\n",
      "    (121.17424437, -21.57288899)>\n",
      "08h04m41.81864962s -21d34m22.4003804s\n",
      "\n",
      "\n",
      "entry: 6 ngs254\n",
      "00h47m27.61s -31d25m18.3s\n",
      "<SkyCoord (Galactic): (l, b) in deg\n",
      "    (314.11339895, -85.61983257)>\n",
      "20h56m27.215749s -85d37m11.39724548s\n",
      "\n",
      "\n",
      "entry: 7 messier87\n",
      "12h30m49.4s +12d23m28s\n",
      "<SkyCoord (Galactic): (l, b) in deg\n",
      "    (283.77742894, 74.49111449)>\n",
      "18h55m06.58294545s +74d29m28.01216988s\n",
      "\n",
      "\n"
     ]
    }
   ],
   "source": [
    "# Dezimale und HHMMSS/Degree Position in galactic\n",
    "for i , (entryname, coordinates) in enumerate(objectdict.items(), start=1):\n",
    "    print('entry:', i, entryname)\n",
    "    print(coordinates.to_string('hmsdms')) # Angabe alpha / delta in HHMMSS / deg\n",
    "    print(coordinates.galactic)\n",
    "    print(coordinates.galactic.to_string('hmsdms'))\n",
    "    print(\"\\n\")"
   ]
  }
 ],
 "metadata": {
  "kernelspec": {
   "display_name": "Python 3 (ipykernel)",
   "language": "python",
   "name": "python3"
  },
  "language_info": {
   "codemirror_mode": {
    "name": "ipython",
    "version": 3
   },
   "file_extension": ".py",
   "mimetype": "text/x-python",
   "name": "python",
   "nbconvert_exporter": "python",
   "pygments_lexer": "ipython3",
   "version": "3.13.3"
  }
 },
 "nbformat": 4,
 "nbformat_minor": 5
}
